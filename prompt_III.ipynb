{
 "cells": [
  {
   "cell_type": "markdown",
   "metadata": {},
   "source": [
    "# Practical Application III: Comparing Classifiers\n",
    "\n",
    "**Overview**: In this practical application, your goal is to compare the performance of the classifiers we encountered in this section, namely K Nearest Neighbor, Logistic Regression, Decision Trees, and Support Vector Machines.  We will utilize a dataset related to marketing bank products over the telephone.  \n",
    "\n"
   ]
  },
  {
   "cell_type": "markdown",
   "metadata": {},
   "source": [
    "### Getting Started\n",
    "\n",
    "Our dataset comes from the UCI Machine Learning repository [link](https://archive.ics.uci.edu/ml/datasets/bank+marketing).  The data is from a Portugese banking institution and is a collection of the results of multiple marketing campaigns.  We will make use of the article accompanying the dataset [here](CRISP-DM-BANK.pdf) for more information on the data and features.\n",
    "\n"
   ]
  },
  {
   "cell_type": "markdown",
   "metadata": {},
   "source": [
    "### Problem 1: Understanding the Data\n",
    "\n",
    "To gain a better understanding of the data, please read the information provided in the UCI link above, and examine the **Materials and Methods** section of the paper.  How many marketing campaigns does this data represent?"
   ]
  },
  {
   "cell_type": "code",
   "execution_count": 1,
   "metadata": {},
   "outputs": [],
   "source": [
    "# Overall, the dataset represents results from 17 campaigns done over a period of 2.5 years."
   ]
  },
  {
   "cell_type": "markdown",
   "metadata": {},
   "source": [
    "### Problem 2: Read in the Data\n",
    "\n",
    "Use pandas to read in the dataset `bank-additional-full.csv` and assign to a meaningful variable name."
   ]
  },
  {
   "cell_type": "code",
   "execution_count": 107,
   "metadata": {},
   "outputs": [],
   "source": [
    "import pandas as pd\n",
    "import numpy as np\n",
    "import plotly.express as px\n",
    "import plotly.graph_objects as go\n",
    "import matplotlib.pyplot as plt \n",
    "import time\n",
    "from sklearn.model_selection import train_test_split\n",
    "from sklearn.metrics import auc, roc_curve, accuracy_score, ConfusionMatrixDisplay, confusion_matrix\n",
    "from sklearn.neighbors import KNeighborsClassifier\n",
    "from sklearn.linear_model import LogisticRegression\n",
    "from sklearn.preprocessing import OneHotEncoder,StandardScaler\n",
    "from sklearn.svm import SVC\n",
    "from sklearn.tree import DecisionTreeClassifier\n",
    "from sklearn.model_selection import GridSearchCV, RandomizedSearchCV\n",
    "from sklearn.pipeline import Pipeline\n",
    "from sklearn.compose import make_column_transformer, ColumnTransformer, make_column_selector\n"
   ]
  },
  {
   "cell_type": "code",
   "execution_count": 3,
   "metadata": {},
   "outputs": [],
   "source": [
    "df = pd.read_csv('data/bank-additional-full.csv', sep = ';')"
   ]
  },
  {
   "cell_type": "code",
   "execution_count": 4,
   "metadata": {},
   "outputs": [
    {
     "data": {
      "text/html": [
       "<div>\n",
       "<style scoped>\n",
       "    .dataframe tbody tr th:only-of-type {\n",
       "        vertical-align: middle;\n",
       "    }\n",
       "\n",
       "    .dataframe tbody tr th {\n",
       "        vertical-align: top;\n",
       "    }\n",
       "\n",
       "    .dataframe thead th {\n",
       "        text-align: right;\n",
       "    }\n",
       "</style>\n",
       "<table border=\"1\" class=\"dataframe\">\n",
       "  <thead>\n",
       "    <tr style=\"text-align: right;\">\n",
       "      <th></th>\n",
       "      <th>age</th>\n",
       "      <th>job</th>\n",
       "      <th>marital</th>\n",
       "      <th>education</th>\n",
       "      <th>default</th>\n",
       "      <th>housing</th>\n",
       "      <th>loan</th>\n",
       "      <th>contact</th>\n",
       "      <th>month</th>\n",
       "      <th>day_of_week</th>\n",
       "      <th>...</th>\n",
       "      <th>campaign</th>\n",
       "      <th>pdays</th>\n",
       "      <th>previous</th>\n",
       "      <th>poutcome</th>\n",
       "      <th>emp.var.rate</th>\n",
       "      <th>cons.price.idx</th>\n",
       "      <th>cons.conf.idx</th>\n",
       "      <th>euribor3m</th>\n",
       "      <th>nr.employed</th>\n",
       "      <th>y</th>\n",
       "    </tr>\n",
       "  </thead>\n",
       "  <tbody>\n",
       "    <tr>\n",
       "      <th>0</th>\n",
       "      <td>56</td>\n",
       "      <td>housemaid</td>\n",
       "      <td>married</td>\n",
       "      <td>basic.4y</td>\n",
       "      <td>no</td>\n",
       "      <td>no</td>\n",
       "      <td>no</td>\n",
       "      <td>telephone</td>\n",
       "      <td>may</td>\n",
       "      <td>mon</td>\n",
       "      <td>...</td>\n",
       "      <td>1</td>\n",
       "      <td>999</td>\n",
       "      <td>0</td>\n",
       "      <td>nonexistent</td>\n",
       "      <td>1.1</td>\n",
       "      <td>93.994</td>\n",
       "      <td>-36.4</td>\n",
       "      <td>4.857</td>\n",
       "      <td>5191.0</td>\n",
       "      <td>no</td>\n",
       "    </tr>\n",
       "    <tr>\n",
       "      <th>1</th>\n",
       "      <td>57</td>\n",
       "      <td>services</td>\n",
       "      <td>married</td>\n",
       "      <td>high.school</td>\n",
       "      <td>unknown</td>\n",
       "      <td>no</td>\n",
       "      <td>no</td>\n",
       "      <td>telephone</td>\n",
       "      <td>may</td>\n",
       "      <td>mon</td>\n",
       "      <td>...</td>\n",
       "      <td>1</td>\n",
       "      <td>999</td>\n",
       "      <td>0</td>\n",
       "      <td>nonexistent</td>\n",
       "      <td>1.1</td>\n",
       "      <td>93.994</td>\n",
       "      <td>-36.4</td>\n",
       "      <td>4.857</td>\n",
       "      <td>5191.0</td>\n",
       "      <td>no</td>\n",
       "    </tr>\n",
       "    <tr>\n",
       "      <th>2</th>\n",
       "      <td>37</td>\n",
       "      <td>services</td>\n",
       "      <td>married</td>\n",
       "      <td>high.school</td>\n",
       "      <td>no</td>\n",
       "      <td>yes</td>\n",
       "      <td>no</td>\n",
       "      <td>telephone</td>\n",
       "      <td>may</td>\n",
       "      <td>mon</td>\n",
       "      <td>...</td>\n",
       "      <td>1</td>\n",
       "      <td>999</td>\n",
       "      <td>0</td>\n",
       "      <td>nonexistent</td>\n",
       "      <td>1.1</td>\n",
       "      <td>93.994</td>\n",
       "      <td>-36.4</td>\n",
       "      <td>4.857</td>\n",
       "      <td>5191.0</td>\n",
       "      <td>no</td>\n",
       "    </tr>\n",
       "    <tr>\n",
       "      <th>3</th>\n",
       "      <td>40</td>\n",
       "      <td>admin.</td>\n",
       "      <td>married</td>\n",
       "      <td>basic.6y</td>\n",
       "      <td>no</td>\n",
       "      <td>no</td>\n",
       "      <td>no</td>\n",
       "      <td>telephone</td>\n",
       "      <td>may</td>\n",
       "      <td>mon</td>\n",
       "      <td>...</td>\n",
       "      <td>1</td>\n",
       "      <td>999</td>\n",
       "      <td>0</td>\n",
       "      <td>nonexistent</td>\n",
       "      <td>1.1</td>\n",
       "      <td>93.994</td>\n",
       "      <td>-36.4</td>\n",
       "      <td>4.857</td>\n",
       "      <td>5191.0</td>\n",
       "      <td>no</td>\n",
       "    </tr>\n",
       "    <tr>\n",
       "      <th>4</th>\n",
       "      <td>56</td>\n",
       "      <td>services</td>\n",
       "      <td>married</td>\n",
       "      <td>high.school</td>\n",
       "      <td>no</td>\n",
       "      <td>no</td>\n",
       "      <td>yes</td>\n",
       "      <td>telephone</td>\n",
       "      <td>may</td>\n",
       "      <td>mon</td>\n",
       "      <td>...</td>\n",
       "      <td>1</td>\n",
       "      <td>999</td>\n",
       "      <td>0</td>\n",
       "      <td>nonexistent</td>\n",
       "      <td>1.1</td>\n",
       "      <td>93.994</td>\n",
       "      <td>-36.4</td>\n",
       "      <td>4.857</td>\n",
       "      <td>5191.0</td>\n",
       "      <td>no</td>\n",
       "    </tr>\n",
       "  </tbody>\n",
       "</table>\n",
       "<p>5 rows × 21 columns</p>\n",
       "</div>"
      ],
      "text/plain": [
       "   age        job  marital    education  default housing loan    contact  \\\n",
       "0   56  housemaid  married     basic.4y       no      no   no  telephone   \n",
       "1   57   services  married  high.school  unknown      no   no  telephone   \n",
       "2   37   services  married  high.school       no     yes   no  telephone   \n",
       "3   40     admin.  married     basic.6y       no      no   no  telephone   \n",
       "4   56   services  married  high.school       no      no  yes  telephone   \n",
       "\n",
       "  month day_of_week  ...  campaign  pdays  previous     poutcome emp.var.rate  \\\n",
       "0   may         mon  ...         1    999         0  nonexistent          1.1   \n",
       "1   may         mon  ...         1    999         0  nonexistent          1.1   \n",
       "2   may         mon  ...         1    999         0  nonexistent          1.1   \n",
       "3   may         mon  ...         1    999         0  nonexistent          1.1   \n",
       "4   may         mon  ...         1    999         0  nonexistent          1.1   \n",
       "\n",
       "   cons.price.idx  cons.conf.idx  euribor3m  nr.employed   y  \n",
       "0          93.994          -36.4      4.857       5191.0  no  \n",
       "1          93.994          -36.4      4.857       5191.0  no  \n",
       "2          93.994          -36.4      4.857       5191.0  no  \n",
       "3          93.994          -36.4      4.857       5191.0  no  \n",
       "4          93.994          -36.4      4.857       5191.0  no  \n",
       "\n",
       "[5 rows x 21 columns]"
      ]
     },
     "execution_count": 4,
     "metadata": {},
     "output_type": "execute_result"
    }
   ],
   "source": [
    "df.head()"
   ]
  },
  {
   "cell_type": "code",
   "execution_count": 5,
   "metadata": {},
   "outputs": [],
   "source": [
    "y = np.where(df['y']=='yes',1,0)\n",
    "X = df.drop(['y','duration'], axis=1)"
   ]
  },
  {
   "cell_type": "markdown",
   "metadata": {},
   "source": [
    "### Problem 3: Understanding the Features\n",
    "\n",
    "\n",
    "Examine the data description below, and determine if any of the features are missing values or need to be coerced to a different data type.\n",
    "\n",
    "\n",
    "```\n",
    "Input variables:\n",
    "# bank client data:\n",
    "1 - age (numeric)\n",
    "2 - job : type of job (categorical: 'admin.','blue-collar','entrepreneur','housemaid','management','retired','self-employed','services','student','technician','unemployed','unknown')\n",
    "3 - marital : marital status (categorical: 'divorced','married','single','unknown'; note: 'divorced' means divorced or widowed)\n",
    "4 - education (categorical: 'basic.4y','basic.6y','basic.9y','high.school','illiterate','professional.course','university.degree','unknown')\n",
    "5 - default: has credit in default? (categorical: 'no','yes','unknown')\n",
    "6 - housing: has housing loan? (categorical: 'no','yes','unknown')\n",
    "7 - loan: has personal loan? (categorical: 'no','yes','unknown')\n",
    "# related with the last contact of the current campaign:\n",
    "8 - contact: contact communication type (categorical: 'cellular','telephone')\n",
    "9 - month: last contact month of year (categorical: 'jan', 'feb', 'mar', ..., 'nov', 'dec')\n",
    "10 - day_of_week: last contact day of the week (categorical: 'mon','tue','wed','thu','fri')\n",
    "11 - duration: last contact duration, in seconds (numeric). Important note: this attribute highly affects the output target (e.g., if duration=0 then y='no'). Yet, the duration is not known before a call is performed. Also, after the end of the call y is obviously known. Thus, this input should only be included for benchmark purposes and should be discarded if the intention is to have a realistic predictive model.\n",
    "# other attributes:\n",
    "12 - campaign: number of contacts performed during this campaign and for this client (numeric, includes last contact)\n",
    "13 - pdays: number of days that passed by after the client was last contacted from a previous campaign (numeric; 999 means client was not previously contacted)\n",
    "14 - previous: number of contacts performed before this campaign and for this client (numeric)\n",
    "15 - poutcome: outcome of the previous marketing campaign (categorical: 'failure','nonexistent','success')\n",
    "# social and economic context attributes\n",
    "16 - emp.var.rate: employment variation rate - quarterly indicator (numeric)\n",
    "17 - cons.price.idx: consumer price index - monthly indicator (numeric)\n",
    "18 - cons.conf.idx: consumer confidence index - monthly indicator (numeric)\n",
    "19 - euribor3m: euribor 3 month rate - daily indicator (numeric)\n",
    "20 - nr.employed: number of employees - quarterly indicator (numeric)\n",
    "\n",
    "Output variable (desired target):\n",
    "21 - y - has the client subscribed a term deposit? (binary: 'yes','no')\n",
    "```\n",
    "\n"
   ]
  },
  {
   "cell_type": "code",
   "execution_count": 6,
   "metadata": {},
   "outputs": [
    {
     "data": {
      "text/plain": [
       "age               0.000000\n",
       "job               0.008012\n",
       "marital           0.001942\n",
       "education         0.042027\n",
       "default           0.208726\n",
       "housing           0.024036\n",
       "loan              0.024036\n",
       "contact           0.000000\n",
       "month             0.000000\n",
       "day_of_week       0.000000\n",
       "campaign          0.000000\n",
       "pdays             0.000000\n",
       "previous          0.000000\n",
       "poutcome          0.000000\n",
       "emp.var.rate      0.000000\n",
       "cons.price.idx    0.000000\n",
       "cons.conf.idx     0.000000\n",
       "euribor3m         0.000000\n",
       "nr.employed       0.000000\n",
       "dtype: float64"
      ]
     },
     "execution_count": 6,
     "metadata": {},
     "output_type": "execute_result"
    }
   ],
   "source": [
    "# Let's identify counts of unknown for each of the columns\n",
    "X[X[['job','marital','education','default','housing','loan']] == 'unknown'].count() / X.count()"
   ]
  },
  {
   "cell_type": "code",
   "execution_count": 7,
   "metadata": {},
   "outputs": [
    {
     "name": "stdout",
     "output_type": "stream",
     "text": [
      "<class 'pandas.core.frame.DataFrame'>\n",
      "RangeIndex: 41188 entries, 0 to 41187\n",
      "Data columns (total 19 columns):\n",
      " #   Column          Non-Null Count  Dtype  \n",
      "---  ------          --------------  -----  \n",
      " 0   age             41188 non-null  int64  \n",
      " 1   job             41188 non-null  object \n",
      " 2   marital         41188 non-null  object \n",
      " 3   education       41188 non-null  object \n",
      " 4   default         41188 non-null  object \n",
      " 5   housing         41188 non-null  object \n",
      " 6   loan            41188 non-null  object \n",
      " 7   contact         41188 non-null  object \n",
      " 8   month           41188 non-null  object \n",
      " 9   day_of_week     41188 non-null  object \n",
      " 10  campaign        41188 non-null  int64  \n",
      " 11  pdays           41188 non-null  int64  \n",
      " 12  previous        41188 non-null  int64  \n",
      " 13  poutcome        41188 non-null  object \n",
      " 14  emp.var.rate    41188 non-null  float64\n",
      " 15  cons.price.idx  41188 non-null  float64\n",
      " 16  cons.conf.idx   41188 non-null  float64\n",
      " 17  euribor3m       41188 non-null  float64\n",
      " 18  nr.employed     41188 non-null  float64\n",
      "dtypes: float64(5), int64(4), object(10)\n",
      "memory usage: 6.0+ MB\n"
     ]
    }
   ],
   "source": [
    "# It looks like there is no null data but some of the categorical variables have 'unknown', for the \n",
    "# purpose of modelling we'll keep these categories as 'unknown'\n",
    "X.info()"
   ]
  },
  {
   "cell_type": "markdown",
   "metadata": {},
   "source": [
    "### Problem 4: Understanding the Task\n",
    "\n",
    "After examining the description and data, your goal now is to clearly state the *Business Objective* of the task.  State the objective below."
   ]
  },
  {
   "cell_type": "code",
   "execution_count": 8,
   "metadata": {},
   "outputs": [],
   "source": [
    "# The business objective is to develop a predictive algorithm that identifies customers likely to \n",
    "# accept the offer based on a number customer characteristics - this will allow to focus the \n",
    "# limited resources of the organization / call center on customers most likely to accept the offer\n",
    "# and have an auxiliary benefit of reducing frustration (due to calls) from customers definitely won't"
   ]
  },
  {
   "cell_type": "markdown",
   "metadata": {},
   "source": [
    "### Problem 5: Engineering Features\n",
    "\n",
    "Now that you understand your business objective, we will build a basic model to get started.  Before we can do this, we must work to encode the data.  Using just the bank information features (columns 1 - 7), prepare the features and target column for modeling with appropriate encoding and transformations."
   ]
  },
  {
   "cell_type": "code",
   "execution_count": 9,
   "metadata": {},
   "outputs": [],
   "source": [
    "basic_transformer = ColumnTransformer([('scale', StandardScaler(),\\\n",
    "        make_column_selector(dtype_include=['int64', 'float64'])),\\\n",
    "        ('encode', OneHotEncoder(handle_unknown = 'ignore',drop='if_binary'),\\\n",
    "        make_column_selector(dtype_include=[object]))], sparse_threshold = 0)"
   ]
  },
  {
   "cell_type": "code",
   "execution_count": 10,
   "metadata": {},
   "outputs": [],
   "source": [
    "X_transformed = pd.DataFrame(data = basic_transformer.fit_transform(X.iloc[:,:7]), \\\n",
    "                             columns = basic_transformer.get_feature_names_out())"
   ]
  },
  {
   "cell_type": "code",
   "execution_count": 11,
   "metadata": {},
   "outputs": [
    {
     "data": {
      "text/html": [
       "<div>\n",
       "<style scoped>\n",
       "    .dataframe tbody tr th:only-of-type {\n",
       "        vertical-align: middle;\n",
       "    }\n",
       "\n",
       "    .dataframe tbody tr th {\n",
       "        vertical-align: top;\n",
       "    }\n",
       "\n",
       "    .dataframe thead th {\n",
       "        text-align: right;\n",
       "    }\n",
       "</style>\n",
       "<table border=\"1\" class=\"dataframe\">\n",
       "  <thead>\n",
       "    <tr style=\"text-align: right;\">\n",
       "      <th></th>\n",
       "      <th>scale__age</th>\n",
       "      <th>encode__job_admin.</th>\n",
       "      <th>encode__job_blue-collar</th>\n",
       "      <th>encode__job_entrepreneur</th>\n",
       "      <th>encode__job_housemaid</th>\n",
       "      <th>encode__job_management</th>\n",
       "      <th>encode__job_retired</th>\n",
       "      <th>encode__job_self-employed</th>\n",
       "      <th>encode__job_services</th>\n",
       "      <th>encode__job_student</th>\n",
       "      <th>...</th>\n",
       "      <th>encode__education_unknown</th>\n",
       "      <th>encode__default_no</th>\n",
       "      <th>encode__default_unknown</th>\n",
       "      <th>encode__default_yes</th>\n",
       "      <th>encode__housing_no</th>\n",
       "      <th>encode__housing_unknown</th>\n",
       "      <th>encode__housing_yes</th>\n",
       "      <th>encode__loan_no</th>\n",
       "      <th>encode__loan_unknown</th>\n",
       "      <th>encode__loan_yes</th>\n",
       "    </tr>\n",
       "  </thead>\n",
       "  <tbody>\n",
       "    <tr>\n",
       "      <th>0</th>\n",
       "      <td>1.533034</td>\n",
       "      <td>0.0</td>\n",
       "      <td>0.0</td>\n",
       "      <td>0.0</td>\n",
       "      <td>1.0</td>\n",
       "      <td>0.0</td>\n",
       "      <td>0.0</td>\n",
       "      <td>0.0</td>\n",
       "      <td>0.0</td>\n",
       "      <td>0.0</td>\n",
       "      <td>...</td>\n",
       "      <td>0.0</td>\n",
       "      <td>1.0</td>\n",
       "      <td>0.0</td>\n",
       "      <td>0.0</td>\n",
       "      <td>1.0</td>\n",
       "      <td>0.0</td>\n",
       "      <td>0.0</td>\n",
       "      <td>1.0</td>\n",
       "      <td>0.0</td>\n",
       "      <td>0.0</td>\n",
       "    </tr>\n",
       "    <tr>\n",
       "      <th>1</th>\n",
       "      <td>1.628993</td>\n",
       "      <td>0.0</td>\n",
       "      <td>0.0</td>\n",
       "      <td>0.0</td>\n",
       "      <td>0.0</td>\n",
       "      <td>0.0</td>\n",
       "      <td>0.0</td>\n",
       "      <td>0.0</td>\n",
       "      <td>1.0</td>\n",
       "      <td>0.0</td>\n",
       "      <td>...</td>\n",
       "      <td>0.0</td>\n",
       "      <td>0.0</td>\n",
       "      <td>1.0</td>\n",
       "      <td>0.0</td>\n",
       "      <td>1.0</td>\n",
       "      <td>0.0</td>\n",
       "      <td>0.0</td>\n",
       "      <td>1.0</td>\n",
       "      <td>0.0</td>\n",
       "      <td>0.0</td>\n",
       "    </tr>\n",
       "    <tr>\n",
       "      <th>2</th>\n",
       "      <td>-0.290186</td>\n",
       "      <td>0.0</td>\n",
       "      <td>0.0</td>\n",
       "      <td>0.0</td>\n",
       "      <td>0.0</td>\n",
       "      <td>0.0</td>\n",
       "      <td>0.0</td>\n",
       "      <td>0.0</td>\n",
       "      <td>1.0</td>\n",
       "      <td>0.0</td>\n",
       "      <td>...</td>\n",
       "      <td>0.0</td>\n",
       "      <td>1.0</td>\n",
       "      <td>0.0</td>\n",
       "      <td>0.0</td>\n",
       "      <td>0.0</td>\n",
       "      <td>0.0</td>\n",
       "      <td>1.0</td>\n",
       "      <td>1.0</td>\n",
       "      <td>0.0</td>\n",
       "      <td>0.0</td>\n",
       "    </tr>\n",
       "    <tr>\n",
       "      <th>3</th>\n",
       "      <td>-0.002309</td>\n",
       "      <td>1.0</td>\n",
       "      <td>0.0</td>\n",
       "      <td>0.0</td>\n",
       "      <td>0.0</td>\n",
       "      <td>0.0</td>\n",
       "      <td>0.0</td>\n",
       "      <td>0.0</td>\n",
       "      <td>0.0</td>\n",
       "      <td>0.0</td>\n",
       "      <td>...</td>\n",
       "      <td>0.0</td>\n",
       "      <td>1.0</td>\n",
       "      <td>0.0</td>\n",
       "      <td>0.0</td>\n",
       "      <td>1.0</td>\n",
       "      <td>0.0</td>\n",
       "      <td>0.0</td>\n",
       "      <td>1.0</td>\n",
       "      <td>0.0</td>\n",
       "      <td>0.0</td>\n",
       "    </tr>\n",
       "    <tr>\n",
       "      <th>4</th>\n",
       "      <td>1.533034</td>\n",
       "      <td>0.0</td>\n",
       "      <td>0.0</td>\n",
       "      <td>0.0</td>\n",
       "      <td>0.0</td>\n",
       "      <td>0.0</td>\n",
       "      <td>0.0</td>\n",
       "      <td>0.0</td>\n",
       "      <td>1.0</td>\n",
       "      <td>0.0</td>\n",
       "      <td>...</td>\n",
       "      <td>0.0</td>\n",
       "      <td>1.0</td>\n",
       "      <td>0.0</td>\n",
       "      <td>0.0</td>\n",
       "      <td>1.0</td>\n",
       "      <td>0.0</td>\n",
       "      <td>0.0</td>\n",
       "      <td>0.0</td>\n",
       "      <td>0.0</td>\n",
       "      <td>1.0</td>\n",
       "    </tr>\n",
       "  </tbody>\n",
       "</table>\n",
       "<p>5 rows × 34 columns</p>\n",
       "</div>"
      ],
      "text/plain": [
       "   scale__age  encode__job_admin.  encode__job_blue-collar  \\\n",
       "0    1.533034                 0.0                      0.0   \n",
       "1    1.628993                 0.0                      0.0   \n",
       "2   -0.290186                 0.0                      0.0   \n",
       "3   -0.002309                 1.0                      0.0   \n",
       "4    1.533034                 0.0                      0.0   \n",
       "\n",
       "   encode__job_entrepreneur  encode__job_housemaid  encode__job_management  \\\n",
       "0                       0.0                    1.0                     0.0   \n",
       "1                       0.0                    0.0                     0.0   \n",
       "2                       0.0                    0.0                     0.0   \n",
       "3                       0.0                    0.0                     0.0   \n",
       "4                       0.0                    0.0                     0.0   \n",
       "\n",
       "   encode__job_retired  encode__job_self-employed  encode__job_services  \\\n",
       "0                  0.0                        0.0                   0.0   \n",
       "1                  0.0                        0.0                   1.0   \n",
       "2                  0.0                        0.0                   1.0   \n",
       "3                  0.0                        0.0                   0.0   \n",
       "4                  0.0                        0.0                   1.0   \n",
       "\n",
       "   encode__job_student  ...  encode__education_unknown  encode__default_no  \\\n",
       "0                  0.0  ...                        0.0                 1.0   \n",
       "1                  0.0  ...                        0.0                 0.0   \n",
       "2                  0.0  ...                        0.0                 1.0   \n",
       "3                  0.0  ...                        0.0                 1.0   \n",
       "4                  0.0  ...                        0.0                 1.0   \n",
       "\n",
       "   encode__default_unknown  encode__default_yes  encode__housing_no  \\\n",
       "0                      0.0                  0.0                 1.0   \n",
       "1                      1.0                  0.0                 1.0   \n",
       "2                      0.0                  0.0                 0.0   \n",
       "3                      0.0                  0.0                 1.0   \n",
       "4                      0.0                  0.0                 1.0   \n",
       "\n",
       "   encode__housing_unknown  encode__housing_yes  encode__loan_no  \\\n",
       "0                      0.0                  0.0              1.0   \n",
       "1                      0.0                  0.0              1.0   \n",
       "2                      0.0                  1.0              1.0   \n",
       "3                      0.0                  0.0              1.0   \n",
       "4                      0.0                  0.0              0.0   \n",
       "\n",
       "   encode__loan_unknown  encode__loan_yes  \n",
       "0                   0.0               0.0  \n",
       "1                   0.0               0.0  \n",
       "2                   0.0               0.0  \n",
       "3                   0.0               0.0  \n",
       "4                   0.0               1.0  \n",
       "\n",
       "[5 rows x 34 columns]"
      ]
     },
     "execution_count": 11,
     "metadata": {},
     "output_type": "execute_result"
    }
   ],
   "source": [
    "X_transformed.head()"
   ]
  },
  {
   "cell_type": "code",
   "execution_count": 21,
   "metadata": {},
   "outputs": [],
   "source": [
    "df_for_corr = pd.concat([X_transformed,pd.DataFrame(y)], axis = 1)\n",
    "df_for_corr.rename(columns = {0:'y'}, inplace = True)"
   ]
  },
  {
   "cell_type": "code",
   "execution_count": 84,
   "metadata": {},
   "outputs": [
    {
     "data": {
      "application/vnd.plotly.v1+json": {
       "config": {
        "plotlyServerURL": "https://plot.ly"
       },
       "data": [
        {
         "type": "heatmap",
         "x": [
          "scale__age",
          "encode__job_admin.",
          "encode__job_blue-collar",
          "encode__job_entrepreneur",
          "encode__job_housemaid",
          "encode__job_management",
          "encode__job_retired",
          "encode__job_self-employed",
          "encode__job_services",
          "encode__job_student",
          "encode__job_technician",
          "encode__job_unemployed",
          "encode__job_unknown",
          "encode__marital_divorced",
          "encode__marital_married",
          "encode__marital_single",
          "encode__marital_unknown",
          "encode__education_basic.4y",
          "encode__education_basic.6y",
          "encode__education_basic.9y",
          "encode__education_high.school",
          "encode__education_illiterate",
          "encode__education_professional.course",
          "encode__education_university.degree",
          "encode__education_unknown",
          "encode__default_no",
          "encode__default_unknown",
          "encode__default_yes",
          "encode__housing_no",
          "encode__housing_unknown",
          "encode__housing_yes",
          "encode__loan_no",
          "encode__loan_unknown",
          "encode__loan_yes",
          "y"
         ],
         "y": [
          "scale__age",
          "encode__job_admin.",
          "encode__job_blue-collar",
          "encode__job_entrepreneur",
          "encode__job_housemaid",
          "encode__job_management",
          "encode__job_retired",
          "encode__job_self-employed",
          "encode__job_services",
          "encode__job_student",
          "encode__job_technician",
          "encode__job_unemployed",
          "encode__job_unknown",
          "encode__marital_divorced",
          "encode__marital_married",
          "encode__marital_single",
          "encode__marital_unknown",
          "encode__education_basic.4y",
          "encode__education_basic.6y",
          "encode__education_basic.9y",
          "encode__education_high.school",
          "encode__education_illiterate",
          "encode__education_professional.course",
          "encode__education_university.degree",
          "encode__education_unknown",
          "encode__default_no",
          "encode__default_unknown",
          "encode__default_yes",
          "encode__housing_no",
          "encode__housing_unknown",
          "encode__housing_yes",
          "encode__loan_no",
          "encode__loan_unknown",
          "encode__loan_yes",
          "y"
         ],
         "z": [
          [
           1,
           -0.10258382894299209,
           -0.024190697150719774,
           0.03121250637224848,
           0.08540303062374316,
           0.062040001664528485,
           0.44077226051890317,
           -0.0013555325741949752,
           -0.06573136670494997,
           -0.19974899303064422,
           -0.0643827118182039,
           -0.004426165967828964,
           0.047772767187301314,
           0.16612547738315356,
           0.27126555070984565,
           -0.41170348776180926,
           0.001062273797516412,
           0.24407902739297482,
           0.009897359209477038,
           -0.03831987562617816,
           -0.10654962107407111,
           0.017006663960423277,
           0.002054016318667923,
           -0.07113808711694226,
           0.06948514747578478,
           -0.1650194644109755,
           0.16500094242463562,
           0.0018912625147116142,
           0.0017551531914485787,
           -0.0010924708080766391,
           -0.0014140479201087265,
           0.007224257255461233,
           -0.0010924708080766391,
           -0.0071981742850918615,
           0.03039880304000368
          ],
          [
           -0.10258382894299209,
           1,
           -0.3133127753763698,
           -0.11141675118243481,
           -0.09459522004499181,
           -0.16089165415892714,
           -0.12150151138355923,
           -0.11002101339381437,
           -0.19006327827578978,
           -0.08574750334025864,
           -0.25751557546378406,
           -0.09246693375004328,
           -0.05230683404523923,
           0.020012790937311058,
           -0.12049396563404183,
           0.11778694492825953,
           -0.007918267186811278,
           -0.18125480669778096,
           -0.10449909507851231,
           -0.16264114858664142,
           0.12208048924097355,
           -0.00949788856116912,
           -0.16146378178973037,
           0.32732140462824,
           -0.05260397830602698,
           0.12133647556581997,
           -0.12124774570479488,
           -0.004967422598813361,
           -0.008529428061964436,
           -0.008570203650961589,
           0.011128139879690292,
           -0.015485364573334763,
           -0.008570203650961589,
           0.020088424375771748,
           0.03142601398266647
          ],
          [
           -0.024190697150719774,
           -0.3133127753763698,
           1,
           -0.10305013408256516,
           -0.08749178203234798,
           -0.14880981861241707,
           -0.11237759947611718,
           -0.10175920641921857,
           -0.17579085822042712,
           -0.07930846683897659,
           -0.23817796065907187,
           -0.08552331512110775,
           -0.048378957424186825,
           -0.05685704857985412,
           0.12927212652181688,
           -0.1001924104974363,
           -0.005250700742381048,
           0.265905729699837,
           0.23118359660950616,
           0.3723031911581722,
           -0.17387324939659773,
           0.011010024729215235,
           -0.12653111589957522,
           -0.33659190701440883,
           0.018868730313087452,
           -0.17657852891031753,
           0.1766976868658774,
           -0.004594403978036387,
           0.01403294547850968,
           0.006673034029420848,
           -0.016030798548996264,
           0.0030894144636642116,
           0.006673034029420848,
           -0.006126854642379788,
           -0.0744232871682964
          ],
          [
           0.03121250637224848,
           -0.11141675118243481,
           -0.10305013408256516,
           1,
           -0.03111283954986019,
           -0.05291806730168158,
           -0.03996245293307779,
           -0.03618645989941769,
           -0.06251275993123649,
           -0.028202781408591445,
           -0.08469815681155791,
           -0.0304128355752468,
           -0.017203978533340356,
           0.006656638021900897,
           0.05104993843952278,
           -0.060244542766862814,
           0.0005135934592100438,
           -0.004626745750214525,
           -0.0057482178449886805,
           -0.0013714797234463932,
           -0.03192898013403535,
           0.008578500345386528,
           -0.01985769725713743,
           0.05183176396192598,
           -0.002746184088703113,
           0.0009739456703719769,
           -0.0009397616467662742,
           -0.0016338100616470682,
           -0.0045673497414350775,
           0.0008613381192526129,
           0.004287391615655182,
           0.004789391804690267,
           0.0008613381192526129,
           -0.005449089645383051,
           -0.016643882021650524
          ],
          [
           0.08540303062374316,
           -0.09459522004499181,
           -0.08749178203234798,
           -0.03111283954986019,
           1,
           -0.04492857822215293,
           -0.03392898274831442,
           -0.030723083382944,
           -0.05307467879432394,
           -0.023944768492290033,
           -0.07191055829545241,
           -0.025821152052099314,
           -0.014606548097474888,
           0.02057146903106951,
           0.04249193496179458,
           -0.06097070720327805,
           0.003277507751041275,
           0.18618708626080202,
           0.012048741413116201,
           -0.026678400339246535,
           -0.02578317393194472,
           0.003937731318791928,
           -0.034930901100978594,
           -0.0585278657785038,
           -0.0019473908167155377,
           -0.03684616057333819,
           0.036880021903465086,
           -0.0013871399107676721,
           0.003620074020796012,
           0.0035255527010909457,
           -0.004688729340891888,
           0.0013192551825246593,
           0.0035255527010909457,
           -0.0029049435033903824,
           -0.0065049323428597585
          ],
          [
           0.062040001664528485,
           -0.16089165415892714,
           -0.14880981861241707,
           -0.05291806730168158,
           -0.04492857822215293,
           1,
           -0.057707885828793305,
           -0.052255153103862126,
           -0.09027171627816973,
           -0.04072630106832859,
           -0.1223085973069718,
           -0.04391773563162657,
           -0.02484345069271933,
           0.001075403567715108,
           0.0617607453985199,
           -0.0673639490289459,
           -0.005753126388669613,
           -0.06153341782836335,
           -0.03204931059926259,
           -0.07030118022567382,
           -0.08467146736984986,
           -0.005780152799895952,
           -0.08033120027335608,
           0.24849120830304688,
           5.353667810210893e-05,
           0.035477780912925,
           -0.03543279317331222,
           -0.002359307739726448,
           0.007787191576790902,
           0.00044341657360312114,
           -0.007896218762825742,
           0.0009530857793759081,
           0.00044341657360312114,
           -0.0012005031468318053,
           -0.0004188620737695401
          ],
          [
           0.44077226051890317,
           -0.12150151138355923,
           -0.11237759947611718,
           -0.03996245293307779,
           -0.03392898274831442,
           -0.057707885828793305,
           1,
           -0.0394618360591087,
           -0.06817103112229332,
           -0.03075552401230089,
           -0.09236451390648769,
           -0.033165618712050746,
           -0.01876117703511614,
           0.05981410860179942,
           0.05785763159053865,
           -0.10534457596225953,
           0.004573830053667525,
           0.16993136605922643,
           -0.01096664395921818,
           -0.03684874177182064,
           -0.03494240757960016,
           0.01305618445364631,
           0.008030753732825968,
           -0.059359246715207425,
           0.015553970115816109,
           -0.0101128421877872,
           0.010151555539369913,
           -0.0017816925165834287,
           0.0015485698839518493,
           0.002106184678031279,
           -0.0021891161804885695,
           0.005822150099186655,
           0.002106184678031279,
           -0.007076300869049456,
           0.0922208429612557
          ],
          [
           -0.0013555325741949752,
           -0.11002101339381437,
           -0.10175920641921857,
           -0.03618645989941769,
           -0.030723083382944,
           -0.052255153103862126,
           -0.0394618360591087,
           1,
           -0.06172965128391733,
           -0.027849480066212726,
           -0.08363712768591933,
           -0.03003184848469648,
           -0.01698846118340155,
           -0.01101714249935979,
           0.011967937516011284,
           -0.0059495644292841725,
           0.006767789296664271,
           -0.02250897217028529,
           -0.031379587244702335,
           0.004302564353583978,
           -0.06636545631741994,
           0.015141848254011301,
           -0.005142768905956522,
           0.1006524989666574,
           -0.020366863200146423,
           0.004812135627438306,
           -0.004778874339675808,
           -0.0016133430275766093,
           -0.0003916581352758988,
           0.0050763544904199554,
           -0.00116647084710184,
           0.005142779351312486,
           0.0050763544904199554,
           -0.0076236643141060845,
           -0.004662544896685188
          ],
          [
           -0.06573136670494997,
           -0.19006327827578978,
           -0.17579085822042712,
           -0.06251275993123649,
           -0.05307467879432394,
           -0.09027171627816973,
           -0.06817103112229332,
           -0.06172965128391733,
           1,
           -0.048110477411383745,
           -0.14448464146259496,
           -0.051880558082591004,
           -0.029347872063500605,
           0.02284962327503056,
           -0.018202013166186057,
           0.004077529638348876,
           -0.003193686170212605,
           -0.0737092829213568,
           0.0018433585726683563,
           -0.04522536661338892,
           0.3445637374470175,
           -0.006828165176287062,
           -0.07090394564522118,
           -0.18025691787688386,
           -0.006890644693096201,
           -0.017667484560244744,
           0.017728280717701647,
           -0.002787079080129977,
           0.0038894662182101633,
           0.0030085931165559033,
           -0.004798652244933176,
           -0.0009781076165955842,
           0.0030085931165559033,
           -0.0002468221243199425,
           -0.03230086750341445
          ],
          [
           -0.19974899303064422,
           -0.08574750334025864,
           -0.07930846683897659,
           -0.028202781408591445,
           -0.023944768492290033,
           -0.04072630106832859,
           -0.03075552401230089,
           -0.027849480066212726,
           -0.048110477411383745,
           1,
           -0.06518459214647772,
           -0.023406038072363765,
           -0.013240362791927187,
           -0.047509656162515346,
           -0.16829393096596357,
           0.21663927777044745,
           -0.0026750915707607218,
           -0.03498365080956107,
           -0.02621485837567948,
           -0.013998243150456237,
           0.061864622129864016,
           -0.0030805430779317767,
           -0.03454461198830572,
           -0.03266009233298615,
           0.10927808536537748,
           0.03260126062810715,
           -0.0325790429640387,
           -0.0012573974041752084,
           -0.004941475770465714,
           0.0021638900732193133,
           0.004260767019212892,
           -0.004970607064131679,
           0.0021638900732193133,
           0.004349697572684359,
           0.09395498918093796
          ],
          [
           -0.0643827118182039,
           -0.25751557546378406,
           -0.23817796065907187,
           -0.08469815681155791,
           -0.07191055829545241,
           -0.1223085973069718,
           -0.09236451390648769,
           -0.08363712768591933,
           -0.14448464146259496,
           -0.06518459214647772,
           1,
           -0.07029265143282719,
           -0.03976325269999561,
           0.003944619812747126,
           -0.055176175895670115,
           0.057403843248008506,
           -0.001634883584616299,
           -0.1360100281338145,
           -0.08250111220357727,
           -0.11230019119625073,
           -0.10659804999698659,
           -0.009251439313710415,
           0.4846172769616041,
           -0.026327397473695516,
           -0.02334468442415656,
           0.06940650724172015,
           -0.069659038467337,
           0.011601131031091136,
           -0.009051797754911689,
           -0.006458563683438273,
           0.01100112155768853,
           0.008439738172911843,
           -0.006458563683438273,
           -0.006196635049405109,
           -0.006148639356561232
          ],
          [
           -0.004426165967828964,
           -0.09246693375004328,
           -0.08552331512110775,
           -0.0304128355752468,
           -0.025821152052099314,
           -0.04391773563162657,
           -0.033165618712050746,
           -0.03003184848469648,
           -0.051880558082591004,
           -0.023406038072363765,
           -0.07029265143282719,
           1,
           -0.014277917156951958,
           0.005196189343658759,
           0.006507507232707517,
           -0.011780193290756103,
           0.010784114633644717,
           0.004771208503758956,
           -0.015327727486624353,
           0.01646121835012378,
           0.00920108516312551,
           -0.0033219436322356024,
           0.006075064354915303,
           -0.012899338620723929,
           -0.018439955522883775,
           -0.01012967984470739,
           0.009773925748954318,
           0.017003069374908295,
           -0.008956673169803095,
           0.002687695979638352,
           0.008101429124428914,
           0.0009019815269264488,
           0.002687695979638352,
           -0.0021045028157077495,
           0.01475189557285271
          ],
          [
           0.047772767187301314,
           -0.05230683404523923,
           -0.048378957424186825,
           -0.017203978533340356,
           -0.014606548097474888,
           -0.02484345069271933,
           -0.01876117703511614,
           -0.01698846118340155,
           -0.029347872063500605,
           -0.013240362791927187,
           -0.03976325269999561,
           -0.014277917156951958,
           1,
           -0.020685492129766475,
           0.01909672530412342,
           -0.011321585159522541,
           0.05170389275641579,
           0.01672913447438584,
           0.004320031649033526,
           -0.013416049756231499,
           -0.02535100758878295,
           -0.0018791620661791832,
           -0.024518312994515196,
           -0.03133270180484056,
           0.15897800468816364,
           -0.05567747084933603,
           0.05570072861765055,
           -0.0007670249836676833,
           0.002079167446845588,
           -0.00521324051974015,
           -0.00047321796156000334,
           -0.0028685634362555527,
           -0.00521324051974015,
           0.005269267105544418,
           -0.00015149284487641612
          ],
          [
           0.16612547738315356,
           0.020012790937311058,
           -0.05685704857985412,
           0.006656638021900897,
           0.02057146903106951,
           0.001075403567715108,
           0.05981410860179942,
           -0.01101714249935979,
           0.02284962327503056,
           -0.047509656162515346,
           0.003944619812747126,
           0.005196189343658759,
           -0.020685492129766475,
           1,
           -0.43967319801384136,
           -0.2219132111496617,
           -0.015664926608701283,
           0.005457453824608201,
           -0.025070920008647194,
           -0.024343460027261194,
           0.02330273597833058,
           -5.724143784720455e-05,
           0.01615140848002687,
           -0.004304061433058787,
           -0.0026199120238897225,
           0.025000942309753908,
           -0.024940510940108566,
           -0.0030306629319891607,
           0.0010540324576771504,
           0.005100074739997916,
           -0.0026144313813299676,
           0.0029273871140338904,
           0.005100074739997916,
           -0.005283359081290369,
           -0.010608045255554782
          ],
          [
           0.27126555070984565,
           -0.12049396563404183,
           0.12927212652181688,
           0.05104993843952278,
           0.04249193496179458,
           0.0617607453985199,
           0.05785763159053865,
           0.011967937516011284,
           -0.018202013166186057,
           -0.16829393096596357,
           -0.055176175895670115,
           0.006507507232707517,
           0.01909672530412342,
           -0.43967319801384136,
           1,
           -0.7737845611327178,
           -0.05462170682986242,
           0.11528522074945208,
           0.08229816439105639,
           0.0698182325691898,
           -0.07079223253572041,
           0.009757847428537643,
           -0.00256228859219547,
           -0.10564484201623775,
           0.001573361597967155,
           -0.13052296760131818,
           0.1303949817139855,
           0.006892989942711268,
           0.011826517857178162,
           -0.0036232654761409275,
           -0.010674427099237317,
           0.0025602126758292455,
           -0.0036232654761409275,
           -0.0011692802154829385,
           -0.04339777642507534
          ],
          [
           -0.41170348776180926,
           0.11778694492825953,
           -0.1001924104974363,
           -0.060244542766862814,
           -0.06097070720327805,
           -0.0673639490289459,
           -0.10534457596225953,
           -0.0059495644292841725,
           0.004077529638348876,
           0.21663927777044745,
           0.057403843248008506,
           -0.011780193290756103,
           -0.011321585159522541,
           -0.2219132111496617,
           -0.7737845611327178,
           1,
           -0.027568836162509297,
           -0.12883938348585666,
           -0.0722840104848269,
           -0.0582848410086876,
           0.061219934966568294,
           -0.010482424143754093,
           -0.007867735165158232,
           0.11705054589597422,
           -0.0013909085367554332,
           0.12366100750939245,
           -0.12356488479244125,
           -0.005333689197713148,
           -0.014452403477097633,
           0.0006878317400572404,
           0.014191436842880328,
           -0.0049888187834014296,
           0.0006878317400572404,
           0.004999238236316848,
           0.05413349870830784
          ],
          [
           0.001062273797516412,
           -0.007918267186811278,
           -0.005250700742381048,
           0.0005135934592100438,
           0.003277507751041275,
           -0.005753126388669613,
           0.004573830053667525,
           0.006767789296664271,
           -0.003193686170212605,
           -0.0026750915707607218,
           -0.001634883584616299,
           0.010784114633644717,
           0.05170389275641579,
           -0.015664926608701283,
           -0.05462170682986242,
           -0.027568836162509297,
           1,
           -0.0038567357768726084,
           0.0037242159117517578,
           -0.005829960727740639,
           -0.0058627212017034105,
           -0.0009224177227395446,
           -0.006921467484177515,
           0.00890290885030636,
           0.015494084733922955,
           0.007738484713513406,
           -0.0077315721323946915,
           -0.0003765068758319742,
           0.008675554811702168,
           -0.003322712252636212,
           -0.007626542491681936,
           0.00153359010520998,
           -0.003322712252636212,
           -0.00020840363102945215,
           0.005210793085579798
          ],
          [
           0.24407902739297482,
           -0.18125480669778096,
           0.265905729699837,
           -0.004626745750214525,
           0.18618708626080202,
           -0.06153341782836335,
           0.16993136605922643,
           -0.02250897217028529,
           -0.0737092829213568,
           -0.03498365080956107,
           -0.1360100281338145,
           0.004771208503758956,
           0.01672913447438584,
           0.005457453824608201,
           0.11528522074945208,
           -0.12883938348585666,
           -0.0038567357768726084,
           1,
           -0.08153870395867731,
           -0.13931173615325562,
           -0.18410634838306555,
           -0.007023519415482581,
           -0.12828611497513362,
           -0.2175053103927166,
           -0.07035508163024311,
           -0.1636727559766135,
           0.1637539780827384,
           -0.002866817589556663,
           0.010818212372253883,
           0.008731010376533871,
           -0.013458316203987802,
           -0.0015107291457713491,
           0.008731010376533871,
           -0.0021249813599907193,
           -0.010797987827193035
          ],
          [
           0.009897359209477038,
           -0.10449909507851231,
           0.23118359660950616,
           -0.0057482178449886805,
           0.012048741413116201,
           -0.03204931059926259,
           -0.01096664395921818,
           -0.031379587244702335,
           0.0018433585726683563,
           -0.02621485837567948,
           -0.08250111220357727,
           -0.015327727486624353,
           0.004320031649033526,
           -0.025070920008647194,
           0.08229816439105639,
           -0.0722840104848269,
           0.0037242159117517578,
           -0.08153870395867731,
           1,
           -0.10067776648257432,
           -0.13304992430845075,
           -0.005075755044929471,
           -0.09270977365621784,
           -0.15718667682346393,
           -0.05084419069646649,
           -0.09704686281875702,
           0.09710283302901859,
           -0.002071790933048216,
           0.0071790928864396775,
           0.0033947011978710147,
           -0.008195299928436357,
           0.0035550202510809203,
           0.0033947011978710147,
           -0.005221122575473465,
           -0.023516789289352955
          ],
          [
           -0.03831987562617816,
           -0.16264114858664142,
           0.3723031911581722,
           -0.0013714797234463932,
           -0.026678400339246535,
           -0.07030118022567382,
           -0.03684874177182064,
           0.004302564353583978,
           -0.04522536661338892,
           -0.013998243150456237,
           -0.11230019119625073,
           0.01646121835012378,
           -0.013416049756231499,
           -0.024343460027261194,
           0.0698182325691898,
           -0.0582848410086876,
           -0.005829960727740639,
           -0.13931173615325562,
           -0.10067776648257432,
           1,
           -0.227320463173696,
           -0.008672105555615997,
           -0.15839790062114087,
           -0.26855895158126675,
           -0.08686908345785976,
           -0.061580633488669656,
           0.06166287462028097,
           -0.0035397274891171993,
           0.001367855559804772,
           0.002554059344104086,
           -0.002146377808310748,
           0.005100323313703764,
           0.002554059344104086,
           -0.006501699546112625,
           -0.04513506929531431
          ],
          [
           -0.10654962107407111,
           0.12208048924097355,
           -0.17387324939659773,
           -0.03192898013403535,
           -0.02578317393194472,
           -0.08467146736984986,
           -0.03494240757960016,
           -0.06636545631741994,
           0.3445637374470175,
           0.061864622129864016,
           -0.10659804999698659,
           0.00920108516312551,
           -0.02535100758878295,
           0.02330273597833058,
           -0.07079223253572041,
           0.061219934966568294,
           -0.0058627212017034105,
           -0.18410634838306555,
           -0.13304992430845075,
           -0.227320463173696,
           1,
           -0.011460554083401464,
           -0.20932952154742132,
           -0.35491200717518123,
           -0.11480116596362078,
           0.05324848868624392,
           -0.05329883637277268,
           0.0020719104398420015,
           0.007066977176994631,
           -0.0032734689714988777,
           -0.006038634598384955,
           0.0013740656673101375,
           -0.0032734689714988777,
           -6.0180225735175476e-05,
           -0.007452488955100385
          ],
          [
           0.017006663960423277,
           -0.00949788856116912,
           0.011010024729215235,
           0.008578500345386528,
           0.003937731318791928,
           -0.005780152799895952,
           0.01305618445364631,
           0.015141848254011301,
           -0.006828165176287062,
           -0.0030805430779317767,
           -0.009251439313710415,
           -0.0033219436322356024,
           -0.0018791620661791832,
           -5.724143784720455e-05,
           0.009757847428537643,
           -0.010482424143754093,
           -0.0009224177227395446,
           -0.007023519415482581,
           -0.005075755044929471,
           -0.008672105555615997,
           -0.011460554083401464,
           1,
           -0.007985764596030714,
           -0.013539627476594276,
           -0.004379578570467662,
           -0.009264639977497992,
           0.009269577363899762,
           -0.0001784583656181142,
           -0.00032255052439975144,
           -0.0032814152600256453,
           0.0013277505133548638,
           0.0004979817285017447,
           -0.0032814152600256453,
           0.0008726987059278909,
           0.007246189070148861
          ],
          [
           0.002054016318667923,
           -0.16146378178973037,
           -0.12653111589957522,
           -0.01985769725713743,
           -0.034930901100978594,
           -0.08033120027335608,
           0.008030753732825968,
           -0.005142768905956522,
           -0.07090394564522118,
           -0.03454461198830572,
           0.4846172769616041,
           0.006075064354915303,
           -0.024518312994515196,
           0.01615140848002687,
           -0.00256228859219547,
           -0.007867735165158232,
           -0.006921467484177515,
           -0.12828611497513362,
           -0.09270977365621784,
           -0.15839790062114087,
           -0.20932952154742132,
           -0.007985764596030714,
           1,
           -0.2473042508224515,
           -0.07999395841280622,
           0.05156687625438508,
           -0.05186353314053765,
           0.013811513422562394,
           -0.013241957781966402,
           -0.00048578434940758263,
           0.013345095811740513,
           0.0006424314425013973,
           -0.00048578434940758263,
           -0.0004741804441892189,
           0.0010031761401020185
          ],
          [
           -0.07113808711694226,
           0.32732140462824,
           -0.33659190701440883,
           0.05183176396192598,
           -0.0585278657785038,
           0.24849120830304688,
           -0.059359246715207425,
           0.1006524989666574,
           -0.18025691787688386,
           -0.03266009233298615,
           -0.026327397473695516,
           -0.012899338620723929,
           -0.03133270180484056,
           -0.004304061433058787,
           -0.10564484201623775,
           0.11705054589597422,
           0.00890290885030636,
           -0.2175053103927166,
           -0.15718667682346393,
           -0.26855895158126675,
           -0.35491200717518123,
           -0.013539627476594276,
           -0.2473042508224515,
           1,
           -0.1356273884940079,
           0.14279882471005892,
           -0.14270111046148987,
           -0.005526523087610509,
           -0.012234175971735336,
           -0.00537560847847051,
           0.013840372204430736,
           -0.009607016061695702,
           -0.00537560847847051,
           0.012487791023870896,
           0.05036375375790681
          ],
          [
           0.06948514747578478,
           -0.05260397830602698,
           0.018868730313087452,
           -0.002746184088703113,
           -0.0019473908167155377,
           5.353667810210893e-05,
           0.015553970115816109,
           -0.020366863200146423,
           -0.006890644693096201,
           0.10927808536537748,
           -0.02334468442415656,
           -0.018439955522883775,
           0.15897800468816364,
           -0.0026199120238897225,
           0.001573361597967155,
           -0.0013909085367554332,
           0.015494084733922955,
           -0.07035508163024311,
           -0.05084419069646649,
           -0.08686908345785976,
           -0.11480116596362078,
           -0.004379578570467662,
           -0.07999395841280622,
           -0.1356273884940079,
           1,
           -0.05554214852071288,
           0.05558682104701541,
           -0.0017876298388220086,
           0.008114562854183162,
           -0.0012692020051862255,
           -0.007697245515229599,
           0.0070548599345836,
           -0.0012692020051862255,
           -0.006942993977104041,
           0.021430064315103286
          ],
          [
           -0.1650194644109755,
           0.12133647556581997,
           -0.17657852891031753,
           0.0009739456703719769,
           -0.03684616057333819,
           0.035477780912925,
           -0.0101128421877872,
           0.004812135627438306,
           -0.017667484560244744,
           0.03260126062810715,
           0.06940650724172015,
           -0.01012967984470739,
           -0.05567747084933603,
           0.025000942309753908,
           -0.13052296760131818,
           0.12366100750939245,
           0.007738484713513406,
           -0.1636727559766135,
           -0.09704686281875702,
           -0.061580633488669656,
           0.05324848868624392,
           -0.009264639977497992,
           0.05156687625438508,
           0.14279882471005892,
           -0.05554214852071288,
           1,
           -0.9997795481748524,
           -0.01661386665334952,
           -0.014372466457566036,
           -0.007912979307764429,
           0.01674940011977876,
           -0.001928115114629762,
           -0.007912979307764429,
           0.005424175423085785,
           0.09934448817772387
          ],
          [
           0.16500094242463562,
           -0.12124774570479488,
           0.1766976868658774,
           -0.0009397616467662742,
           0.036880021903465086,
           -0.03543279317331222,
           0.010151555539369913,
           -0.004778874339675808,
           0.017728280717701647,
           -0.0325790429640387,
           -0.069659038467337,
           0.009773925748954318,
           0.05570072861765055,
           -0.024940510940108566,
           0.1303949817139855,
           -0.12356488479244125,
           -0.0077315721323946915,
           0.1637539780827384,
           0.09710283302901859,
           0.06166287462028097,
           -0.05329883637277268,
           0.009269577363899762,
           -0.05186353314053765,
           -0.14270111046148987,
           0.05558682104701541,
           -0.9997795481748524,
           1,
           -0.0043834465210095905,
           0.014297053692238434,
           0.007942121984419357,
           -0.016683185630502695,
           0.0018456088660446716,
           0.007942121984419357,
           -0.005349082731317812,
           -0.09929338741810341
          ],
          [
           0.0018912625147116142,
           -0.004967422598813361,
           -0.004594403978036387,
           -0.0016338100616470682,
           -0.0013871399107676721,
           -0.002359307739726448,
           -0.0017816925165834287,
           -0.0016133430275766093,
           -0.002787079080129977,
           -0.0012573974041752084,
           0.011601131031091136,
           0.017003069374908295,
           -0.0007670249836676833,
           -0.0030306629319891607,
           0.006892989942711268,
           -0.005333689197713148,
           -0.0003765068758319742,
           -0.002866817589556663,
           -0.002071790933048216,
           -0.0035397274891171993,
           0.0020719104398420015,
           -0.0001784583656181142,
           0.013811513422562394,
           -0.005526523087610509,
           -0.0017876298388220086,
           -0.01661386665334952,
           -0.0043834465210095905,
           1,
           0.003679078989152328,
           -0.0013393881940931159,
           -0.00325559135804918,
           0.003940764591333352,
           -0.0013393881940931159,
           -0.0036091102778686894,
           -0.0030410129835291293
          ],
          [
           0.0017551531914485787,
           -0.008529428061964436,
           0.01403294547850968,
           -0.0045673497414350775,
           0.003620074020796012,
           0.007787191576790902,
           0.0015485698839518493,
           -0.0003916581352758988,
           0.0038894662182101633,
           -0.004941475770465714,
           -0.009051797754911689,
           -0.008956673169803095,
           0.002079167446845588,
           0.0010540324576771504,
           0.011826517857178162,
           -0.014452403477097633,
           0.008675554811702168,
           0.010818212372253883,
           0.0071790928864396775,
           0.001367855559804772,
           0.007066977176994631,
           -0.00032255052439975144,
           -0.013241957781966402,
           -0.012234175971735336,
           0.008114562854183162,
           -0.014372466457566036,
           0.014297053692238434,
           0.003679078989152328,
           1,
           -0.14256116759059134,
           -0.9528189669498219,
           0.09170346495491809,
           -0.14256116759059134,
           -0.036425296609778786,
           -0.011085158131250286
          ],
          [
           -0.0010924708080766391,
           -0.008570203650961589,
           0.006673034029420848,
           0.0008613381192526129,
           0.0035255527010909457,
           0.00044341657360312114,
           0.002106184678031279,
           0.0050763544904199554,
           0.0030085931165559033,
           0.0021638900732193133,
           -0.006458563683438273,
           0.002687695979638352,
           -0.00521324051974015,
           0.005100074739997916,
           -0.0036232654761409275,
           0.0006878317400572404,
           -0.003322712252636212,
           0.008731010376533871,
           0.0033947011978710147,
           0.002554059344104086,
           -0.0032734689714988777,
           -0.0032814152600256453,
           -0.00048578434940758263,
           -0.00537560847847051,
           -0.0012692020051862255,
           -0.007912979307764429,
           0.007942121984419357,
           -0.0013393881940931159,
           -0.14256116759059134,
           1,
           -0.16460381584502531,
           -0.33988028542449505,
           1,
           -0.06636275917855676,
           -0.0022700266583405913
          ],
          [
           -0.0014140479201087265,
           0.011128139879690292,
           -0.016030798548996264,
           0.004287391615655182,
           -0.004688729340891888,
           -0.007896218762825742,
           -0.0021891161804885695,
           -0.00116647084710184,
           -0.004798652244933176,
           0.004260767019212892,
           0.01100112155768853,
           0.008101429124428914,
           -0.00047321796156000334,
           -0.0026144313813299676,
           -0.010674427099237317,
           0.014191436842880328,
           -0.007626542491681936,
           -0.013458316203987802,
           -0.008195299928436357,
           -0.002146377808310748,
           -0.006038634598384955,
           0.0013277505133548638,
           0.013345095811740513,
           0.013840372204430736,
           -0.007697245515229599,
           0.01674940011977876,
           -0.016683185630502695,
           -0.00325559135804918,
           -0.9528189669498219,
           -0.16460381584502531,
           1,
           0.012845569988071166,
           -0.16460381584502531,
           0.056650773902536526,
           0.011742938367143569
          ],
          [
           0.007224257255461233,
           -0.015485364573334763,
           0.0030894144636642116,
           0.004789391804690267,
           0.0013192551825246593,
           0.0009530857793759081,
           0.005822150099186655,
           0.005142779351312486,
           -0.0009781076165955842,
           -0.004970607064131679,
           0.008439738172911843,
           0.0009019815269264488,
           -0.0028685634362555527,
           0.0029273871140338904,
           0.0025602126758292455,
           -0.0049888187834014296,
           0.00153359010520998,
           -0.0015107291457713491,
           0.0035550202510809203,
           0.005100323313703764,
           0.0013740656673101375,
           0.0004979817285017447,
           0.0006424314425013973,
           -0.009607016061695702,
           0.0070548599345836,
           -0.001928115114629762,
           0.0018456088660446716,
           0.003940764591333352,
           0.09170346495491809,
           -0.33988028542449505,
           0.012845569988071166,
           1,
           -0.339880285424495,
           -0.9158401102684479,
           0.005123050777054505
          ],
          [
           -0.0010924708080766391,
           -0.008570203650961589,
           0.006673034029420848,
           0.0008613381192526129,
           0.0035255527010909457,
           0.00044341657360312114,
           0.002106184678031279,
           0.0050763544904199554,
           0.0030085931165559033,
           0.0021638900732193133,
           -0.006458563683438273,
           0.002687695979638352,
           -0.00521324051974015,
           0.005100074739997916,
           -0.0036232654761409275,
           0.0006878317400572404,
           -0.003322712252636212,
           0.008731010376533871,
           0.0033947011978710147,
           0.002554059344104086,
           -0.0032734689714988777,
           -0.0032814152600256453,
           -0.00048578434940758263,
           -0.00537560847847051,
           -0.0012692020051862255,
           -0.007912979307764429,
           0.007942121984419357,
           -0.0013393881940931159,
           -0.14256116759059134,
           1,
           -0.16460381584502531,
           -0.339880285424495,
           1,
           -0.06636275917855676,
           -0.0022700266583405913
          ],
          [
           -0.0071981742850918615,
           0.020088424375771748,
           -0.006126854642379788,
           -0.005449089645383051,
           -0.0029049435033903824,
           -0.0012005031468318053,
           -0.007076300869049456,
           -0.0076236643141060845,
           -0.0002468221243199425,
           0.004349697572684359,
           -0.006196635049405109,
           -0.0021045028157077495,
           0.005269267105544418,
           -0.005283359081290369,
           -0.0011692802154829385,
           0.004999238236316848,
           -0.00020840363102945215,
           -0.0021249813599907193,
           -0.005221122575473465,
           -0.006501699546112625,
           -6.0180225735175476e-05,
           0.0008726987059278909,
           -0.0004741804441892189,
           0.012487791023870896,
           -0.006942993977104041,
           0.005424175423085785,
           -0.005349082731317812,
           -0.0036091102778686894,
           -0.036425296609778786,
           -0.06636275917855676,
           0.056650773902536526,
           -0.9158401102684479,
           -0.06636275917855676,
           1,
           -0.00446611744048806
          ],
          [
           0.03039880304000368,
           0.03142601398266647,
           -0.0744232871682964,
           -0.016643882021650524,
           -0.0065049323428597585,
           -0.0004188620737695401,
           0.0922208429612557,
           -0.004662544896685188,
           -0.03230086750341445,
           0.09395498918093796,
           -0.006148639356561232,
           0.01475189557285271,
           -0.00015149284487641612,
           -0.010608045255554782,
           -0.04339777642507534,
           0.05413349870830784,
           0.005210793085579798,
           -0.010797987827193035,
           -0.023516789289352955,
           -0.04513506929531431,
           -0.007452488955100385,
           0.007246189070148861,
           0.0010031761401020185,
           0.05036375375790681,
           0.021430064315103286,
           0.09934448817772387,
           -0.09929338741810341,
           -0.0030410129835291293,
           -0.011085158131250286,
           -0.0022700266583405913,
           0.011742938367143569,
           0.005123050777054505,
           -0.0022700266583405913,
           -0.00446611744048806,
           1
          ]
         ]
        }
       ],
       "layout": {
        "template": {
         "data": {
          "bar": [
           {
            "error_x": {
             "color": "#2a3f5f"
            },
            "error_y": {
             "color": "#2a3f5f"
            },
            "marker": {
             "line": {
              "color": "#E5ECF6",
              "width": 0.5
             },
             "pattern": {
              "fillmode": "overlay",
              "size": 10,
              "solidity": 0.2
             }
            },
            "type": "bar"
           }
          ],
          "barpolar": [
           {
            "marker": {
             "line": {
              "color": "#E5ECF6",
              "width": 0.5
             },
             "pattern": {
              "fillmode": "overlay",
              "size": 10,
              "solidity": 0.2
             }
            },
            "type": "barpolar"
           }
          ],
          "carpet": [
           {
            "aaxis": {
             "endlinecolor": "#2a3f5f",
             "gridcolor": "white",
             "linecolor": "white",
             "minorgridcolor": "white",
             "startlinecolor": "#2a3f5f"
            },
            "baxis": {
             "endlinecolor": "#2a3f5f",
             "gridcolor": "white",
             "linecolor": "white",
             "minorgridcolor": "white",
             "startlinecolor": "#2a3f5f"
            },
            "type": "carpet"
           }
          ],
          "choropleth": [
           {
            "colorbar": {
             "outlinewidth": 0,
             "ticks": ""
            },
            "type": "choropleth"
           }
          ],
          "contour": [
           {
            "colorbar": {
             "outlinewidth": 0,
             "ticks": ""
            },
            "colorscale": [
             [
              0,
              "#0d0887"
             ],
             [
              0.1111111111111111,
              "#46039f"
             ],
             [
              0.2222222222222222,
              "#7201a8"
             ],
             [
              0.3333333333333333,
              "#9c179e"
             ],
             [
              0.4444444444444444,
              "#bd3786"
             ],
             [
              0.5555555555555556,
              "#d8576b"
             ],
             [
              0.6666666666666666,
              "#ed7953"
             ],
             [
              0.7777777777777778,
              "#fb9f3a"
             ],
             [
              0.8888888888888888,
              "#fdca26"
             ],
             [
              1,
              "#f0f921"
             ]
            ],
            "type": "contour"
           }
          ],
          "contourcarpet": [
           {
            "colorbar": {
             "outlinewidth": 0,
             "ticks": ""
            },
            "type": "contourcarpet"
           }
          ],
          "heatmap": [
           {
            "colorbar": {
             "outlinewidth": 0,
             "ticks": ""
            },
            "colorscale": [
             [
              0,
              "#0d0887"
             ],
             [
              0.1111111111111111,
              "#46039f"
             ],
             [
              0.2222222222222222,
              "#7201a8"
             ],
             [
              0.3333333333333333,
              "#9c179e"
             ],
             [
              0.4444444444444444,
              "#bd3786"
             ],
             [
              0.5555555555555556,
              "#d8576b"
             ],
             [
              0.6666666666666666,
              "#ed7953"
             ],
             [
              0.7777777777777778,
              "#fb9f3a"
             ],
             [
              0.8888888888888888,
              "#fdca26"
             ],
             [
              1,
              "#f0f921"
             ]
            ],
            "type": "heatmap"
           }
          ],
          "heatmapgl": [
           {
            "colorbar": {
             "outlinewidth": 0,
             "ticks": ""
            },
            "colorscale": [
             [
              0,
              "#0d0887"
             ],
             [
              0.1111111111111111,
              "#46039f"
             ],
             [
              0.2222222222222222,
              "#7201a8"
             ],
             [
              0.3333333333333333,
              "#9c179e"
             ],
             [
              0.4444444444444444,
              "#bd3786"
             ],
             [
              0.5555555555555556,
              "#d8576b"
             ],
             [
              0.6666666666666666,
              "#ed7953"
             ],
             [
              0.7777777777777778,
              "#fb9f3a"
             ],
             [
              0.8888888888888888,
              "#fdca26"
             ],
             [
              1,
              "#f0f921"
             ]
            ],
            "type": "heatmapgl"
           }
          ],
          "histogram": [
           {
            "marker": {
             "pattern": {
              "fillmode": "overlay",
              "size": 10,
              "solidity": 0.2
             }
            },
            "type": "histogram"
           }
          ],
          "histogram2d": [
           {
            "colorbar": {
             "outlinewidth": 0,
             "ticks": ""
            },
            "colorscale": [
             [
              0,
              "#0d0887"
             ],
             [
              0.1111111111111111,
              "#46039f"
             ],
             [
              0.2222222222222222,
              "#7201a8"
             ],
             [
              0.3333333333333333,
              "#9c179e"
             ],
             [
              0.4444444444444444,
              "#bd3786"
             ],
             [
              0.5555555555555556,
              "#d8576b"
             ],
             [
              0.6666666666666666,
              "#ed7953"
             ],
             [
              0.7777777777777778,
              "#fb9f3a"
             ],
             [
              0.8888888888888888,
              "#fdca26"
             ],
             [
              1,
              "#f0f921"
             ]
            ],
            "type": "histogram2d"
           }
          ],
          "histogram2dcontour": [
           {
            "colorbar": {
             "outlinewidth": 0,
             "ticks": ""
            },
            "colorscale": [
             [
              0,
              "#0d0887"
             ],
             [
              0.1111111111111111,
              "#46039f"
             ],
             [
              0.2222222222222222,
              "#7201a8"
             ],
             [
              0.3333333333333333,
              "#9c179e"
             ],
             [
              0.4444444444444444,
              "#bd3786"
             ],
             [
              0.5555555555555556,
              "#d8576b"
             ],
             [
              0.6666666666666666,
              "#ed7953"
             ],
             [
              0.7777777777777778,
              "#fb9f3a"
             ],
             [
              0.8888888888888888,
              "#fdca26"
             ],
             [
              1,
              "#f0f921"
             ]
            ],
            "type": "histogram2dcontour"
           }
          ],
          "mesh3d": [
           {
            "colorbar": {
             "outlinewidth": 0,
             "ticks": ""
            },
            "type": "mesh3d"
           }
          ],
          "parcoords": [
           {
            "line": {
             "colorbar": {
              "outlinewidth": 0,
              "ticks": ""
             }
            },
            "type": "parcoords"
           }
          ],
          "pie": [
           {
            "automargin": true,
            "type": "pie"
           }
          ],
          "scatter": [
           {
            "marker": {
             "colorbar": {
              "outlinewidth": 0,
              "ticks": ""
             }
            },
            "type": "scatter"
           }
          ],
          "scatter3d": [
           {
            "line": {
             "colorbar": {
              "outlinewidth": 0,
              "ticks": ""
             }
            },
            "marker": {
             "colorbar": {
              "outlinewidth": 0,
              "ticks": ""
             }
            },
            "type": "scatter3d"
           }
          ],
          "scattercarpet": [
           {
            "marker": {
             "colorbar": {
              "outlinewidth": 0,
              "ticks": ""
             }
            },
            "type": "scattercarpet"
           }
          ],
          "scattergeo": [
           {
            "marker": {
             "colorbar": {
              "outlinewidth": 0,
              "ticks": ""
             }
            },
            "type": "scattergeo"
           }
          ],
          "scattergl": [
           {
            "marker": {
             "colorbar": {
              "outlinewidth": 0,
              "ticks": ""
             }
            },
            "type": "scattergl"
           }
          ],
          "scattermapbox": [
           {
            "marker": {
             "colorbar": {
              "outlinewidth": 0,
              "ticks": ""
             }
            },
            "type": "scattermapbox"
           }
          ],
          "scatterpolar": [
           {
            "marker": {
             "colorbar": {
              "outlinewidth": 0,
              "ticks": ""
             }
            },
            "type": "scatterpolar"
           }
          ],
          "scatterpolargl": [
           {
            "marker": {
             "colorbar": {
              "outlinewidth": 0,
              "ticks": ""
             }
            },
            "type": "scatterpolargl"
           }
          ],
          "scatterternary": [
           {
            "marker": {
             "colorbar": {
              "outlinewidth": 0,
              "ticks": ""
             }
            },
            "type": "scatterternary"
           }
          ],
          "surface": [
           {
            "colorbar": {
             "outlinewidth": 0,
             "ticks": ""
            },
            "colorscale": [
             [
              0,
              "#0d0887"
             ],
             [
              0.1111111111111111,
              "#46039f"
             ],
             [
              0.2222222222222222,
              "#7201a8"
             ],
             [
              0.3333333333333333,
              "#9c179e"
             ],
             [
              0.4444444444444444,
              "#bd3786"
             ],
             [
              0.5555555555555556,
              "#d8576b"
             ],
             [
              0.6666666666666666,
              "#ed7953"
             ],
             [
              0.7777777777777778,
              "#fb9f3a"
             ],
             [
              0.8888888888888888,
              "#fdca26"
             ],
             [
              1,
              "#f0f921"
             ]
            ],
            "type": "surface"
           }
          ],
          "table": [
           {
            "cells": {
             "fill": {
              "color": "#EBF0F8"
             },
             "line": {
              "color": "white"
             }
            },
            "header": {
             "fill": {
              "color": "#C8D4E3"
             },
             "line": {
              "color": "white"
             }
            },
            "type": "table"
           }
          ]
         },
         "layout": {
          "annotationdefaults": {
           "arrowcolor": "#2a3f5f",
           "arrowhead": 0,
           "arrowwidth": 1
          },
          "autotypenumbers": "strict",
          "coloraxis": {
           "colorbar": {
            "outlinewidth": 0,
            "ticks": ""
           }
          },
          "colorscale": {
           "diverging": [
            [
             0,
             "#8e0152"
            ],
            [
             0.1,
             "#c51b7d"
            ],
            [
             0.2,
             "#de77ae"
            ],
            [
             0.3,
             "#f1b6da"
            ],
            [
             0.4,
             "#fde0ef"
            ],
            [
             0.5,
             "#f7f7f7"
            ],
            [
             0.6,
             "#e6f5d0"
            ],
            [
             0.7,
             "#b8e186"
            ],
            [
             0.8,
             "#7fbc41"
            ],
            [
             0.9,
             "#4d9221"
            ],
            [
             1,
             "#276419"
            ]
           ],
           "sequential": [
            [
             0,
             "#0d0887"
            ],
            [
             0.1111111111111111,
             "#46039f"
            ],
            [
             0.2222222222222222,
             "#7201a8"
            ],
            [
             0.3333333333333333,
             "#9c179e"
            ],
            [
             0.4444444444444444,
             "#bd3786"
            ],
            [
             0.5555555555555556,
             "#d8576b"
            ],
            [
             0.6666666666666666,
             "#ed7953"
            ],
            [
             0.7777777777777778,
             "#fb9f3a"
            ],
            [
             0.8888888888888888,
             "#fdca26"
            ],
            [
             1,
             "#f0f921"
            ]
           ],
           "sequentialminus": [
            [
             0,
             "#0d0887"
            ],
            [
             0.1111111111111111,
             "#46039f"
            ],
            [
             0.2222222222222222,
             "#7201a8"
            ],
            [
             0.3333333333333333,
             "#9c179e"
            ],
            [
             0.4444444444444444,
             "#bd3786"
            ],
            [
             0.5555555555555556,
             "#d8576b"
            ],
            [
             0.6666666666666666,
             "#ed7953"
            ],
            [
             0.7777777777777778,
             "#fb9f3a"
            ],
            [
             0.8888888888888888,
             "#fdca26"
            ],
            [
             1,
             "#f0f921"
            ]
           ]
          },
          "colorway": [
           "#636efa",
           "#EF553B",
           "#00cc96",
           "#ab63fa",
           "#FFA15A",
           "#19d3f3",
           "#FF6692",
           "#B6E880",
           "#FF97FF",
           "#FECB52"
          ],
          "font": {
           "color": "#2a3f5f"
          },
          "geo": {
           "bgcolor": "white",
           "lakecolor": "white",
           "landcolor": "#E5ECF6",
           "showlakes": true,
           "showland": true,
           "subunitcolor": "white"
          },
          "hoverlabel": {
           "align": "left"
          },
          "hovermode": "closest",
          "mapbox": {
           "style": "light"
          },
          "paper_bgcolor": "white",
          "plot_bgcolor": "#E5ECF6",
          "polar": {
           "angularaxis": {
            "gridcolor": "white",
            "linecolor": "white",
            "ticks": ""
           },
           "bgcolor": "#E5ECF6",
           "radialaxis": {
            "gridcolor": "white",
            "linecolor": "white",
            "ticks": ""
           }
          },
          "scene": {
           "xaxis": {
            "backgroundcolor": "#E5ECF6",
            "gridcolor": "white",
            "gridwidth": 2,
            "linecolor": "white",
            "showbackground": true,
            "ticks": "",
            "zerolinecolor": "white"
           },
           "yaxis": {
            "backgroundcolor": "#E5ECF6",
            "gridcolor": "white",
            "gridwidth": 2,
            "linecolor": "white",
            "showbackground": true,
            "ticks": "",
            "zerolinecolor": "white"
           },
           "zaxis": {
            "backgroundcolor": "#E5ECF6",
            "gridcolor": "white",
            "gridwidth": 2,
            "linecolor": "white",
            "showbackground": true,
            "ticks": "",
            "zerolinecolor": "white"
           }
          },
          "shapedefaults": {
           "line": {
            "color": "#2a3f5f"
           }
          },
          "ternary": {
           "aaxis": {
            "gridcolor": "white",
            "linecolor": "white",
            "ticks": ""
           },
           "baxis": {
            "gridcolor": "white",
            "linecolor": "white",
            "ticks": ""
           },
           "bgcolor": "#E5ECF6",
           "caxis": {
            "gridcolor": "white",
            "linecolor": "white",
            "ticks": ""
           }
          },
          "title": {
           "x": 0.05
          },
          "xaxis": {
           "automargin": true,
           "gridcolor": "white",
           "linecolor": "white",
           "ticks": "",
           "title": {
            "standoff": 15
           },
           "zerolinecolor": "white",
           "zerolinewidth": 2
          },
          "yaxis": {
           "automargin": true,
           "gridcolor": "white",
           "linecolor": "white",
           "ticks": "",
           "title": {
            "standoff": 15
           },
           "zerolinecolor": "white",
           "zerolinewidth": 2
          }
         }
        },
        "title": {
         "text": "Correlation Matrix"
        }
       }
      },
      "text/html": [
       "<div>                            <div id=\"5a661747-f916-4659-b98b-f171b888b3e7\" class=\"plotly-graph-div\" style=\"height:525px; width:100%;\"></div>            <script type=\"text/javascript\">                require([\"plotly\"], function(Plotly) {                    window.PLOTLYENV=window.PLOTLYENV || {};                                    if (document.getElementById(\"5a661747-f916-4659-b98b-f171b888b3e7\")) {                    Plotly.newPlot(                        \"5a661747-f916-4659-b98b-f171b888b3e7\",                        [{\"x\":[\"scale__age\",\"encode__job_admin.\",\"encode__job_blue-collar\",\"encode__job_entrepreneur\",\"encode__job_housemaid\",\"encode__job_management\",\"encode__job_retired\",\"encode__job_self-employed\",\"encode__job_services\",\"encode__job_student\",\"encode__job_technician\",\"encode__job_unemployed\",\"encode__job_unknown\",\"encode__marital_divorced\",\"encode__marital_married\",\"encode__marital_single\",\"encode__marital_unknown\",\"encode__education_basic.4y\",\"encode__education_basic.6y\",\"encode__education_basic.9y\",\"encode__education_high.school\",\"encode__education_illiterate\",\"encode__education_professional.course\",\"encode__education_university.degree\",\"encode__education_unknown\",\"encode__default_no\",\"encode__default_unknown\",\"encode__default_yes\",\"encode__housing_no\",\"encode__housing_unknown\",\"encode__housing_yes\",\"encode__loan_no\",\"encode__loan_unknown\",\"encode__loan_yes\",\"y\"],\"y\":[\"scale__age\",\"encode__job_admin.\",\"encode__job_blue-collar\",\"encode__job_entrepreneur\",\"encode__job_housemaid\",\"encode__job_management\",\"encode__job_retired\",\"encode__job_self-employed\",\"encode__job_services\",\"encode__job_student\",\"encode__job_technician\",\"encode__job_unemployed\",\"encode__job_unknown\",\"encode__marital_divorced\",\"encode__marital_married\",\"encode__marital_single\",\"encode__marital_unknown\",\"encode__education_basic.4y\",\"encode__education_basic.6y\",\"encode__education_basic.9y\",\"encode__education_high.school\",\"encode__education_illiterate\",\"encode__education_professional.course\",\"encode__education_university.degree\",\"encode__education_unknown\",\"encode__default_no\",\"encode__default_unknown\",\"encode__default_yes\",\"encode__housing_no\",\"encode__housing_unknown\",\"encode__housing_yes\",\"encode__loan_no\",\"encode__loan_unknown\",\"encode__loan_yes\",\"y\"],\"z\":[[1.0,-0.10258382894299209,-0.024190697150719774,0.03121250637224848,0.08540303062374316,0.062040001664528485,0.44077226051890317,-0.0013555325741949752,-0.06573136670494997,-0.19974899303064422,-0.0643827118182039,-0.004426165967828964,0.047772767187301314,0.16612547738315356,0.27126555070984565,-0.41170348776180926,0.001062273797516412,0.24407902739297482,0.009897359209477038,-0.03831987562617816,-0.10654962107407111,0.017006663960423277,0.002054016318667923,-0.07113808711694226,0.06948514747578478,-0.1650194644109755,0.16500094242463562,0.0018912625147116142,0.0017551531914485787,-0.0010924708080766391,-0.0014140479201087265,0.007224257255461233,-0.0010924708080766391,-0.0071981742850918615,0.03039880304000368],[-0.10258382894299209,1.0,-0.3133127753763698,-0.11141675118243481,-0.09459522004499181,-0.16089165415892714,-0.12150151138355923,-0.11002101339381437,-0.19006327827578978,-0.08574750334025864,-0.25751557546378406,-0.09246693375004328,-0.05230683404523923,0.020012790937311058,-0.12049396563404183,0.11778694492825953,-0.007918267186811278,-0.18125480669778096,-0.10449909507851231,-0.16264114858664142,0.12208048924097355,-0.00949788856116912,-0.16146378178973037,0.32732140462824,-0.05260397830602698,0.12133647556581997,-0.12124774570479488,-0.004967422598813361,-0.008529428061964436,-0.008570203650961589,0.011128139879690292,-0.015485364573334763,-0.008570203650961589,0.020088424375771748,0.03142601398266647],[-0.024190697150719774,-0.3133127753763698,1.0,-0.10305013408256516,-0.08749178203234798,-0.14880981861241707,-0.11237759947611718,-0.10175920641921857,-0.17579085822042712,-0.07930846683897659,-0.23817796065907187,-0.08552331512110775,-0.048378957424186825,-0.05685704857985412,0.12927212652181688,-0.1001924104974363,-0.005250700742381048,0.265905729699837,0.23118359660950616,0.3723031911581722,-0.17387324939659773,0.011010024729215235,-0.12653111589957522,-0.33659190701440883,0.018868730313087452,-0.17657852891031753,0.1766976868658774,-0.004594403978036387,0.01403294547850968,0.006673034029420848,-0.016030798548996264,0.0030894144636642116,0.006673034029420848,-0.006126854642379788,-0.0744232871682964],[0.03121250637224848,-0.11141675118243481,-0.10305013408256516,1.0,-0.03111283954986019,-0.05291806730168158,-0.03996245293307779,-0.03618645989941769,-0.06251275993123649,-0.028202781408591445,-0.08469815681155791,-0.0304128355752468,-0.017203978533340356,0.006656638021900897,0.05104993843952278,-0.060244542766862814,0.0005135934592100438,-0.004626745750214525,-0.0057482178449886805,-0.0013714797234463932,-0.03192898013403535,0.008578500345386528,-0.01985769725713743,0.05183176396192598,-0.002746184088703113,0.0009739456703719769,-0.0009397616467662742,-0.0016338100616470682,-0.0045673497414350775,0.0008613381192526129,0.004287391615655182,0.004789391804690267,0.0008613381192526129,-0.005449089645383051,-0.016643882021650524],[0.08540303062374316,-0.09459522004499181,-0.08749178203234798,-0.03111283954986019,1.0,-0.04492857822215293,-0.03392898274831442,-0.030723083382944,-0.05307467879432394,-0.023944768492290033,-0.07191055829545241,-0.025821152052099314,-0.014606548097474888,0.02057146903106951,0.04249193496179458,-0.06097070720327805,0.003277507751041275,0.18618708626080202,0.012048741413116201,-0.026678400339246535,-0.02578317393194472,0.003937731318791928,-0.034930901100978594,-0.0585278657785038,-0.0019473908167155377,-0.03684616057333819,0.036880021903465086,-0.0013871399107676721,0.003620074020796012,0.0035255527010909457,-0.004688729340891888,0.0013192551825246593,0.0035255527010909457,-0.0029049435033903824,-0.0065049323428597585],[0.062040001664528485,-0.16089165415892714,-0.14880981861241707,-0.05291806730168158,-0.04492857822215293,1.0,-0.057707885828793305,-0.052255153103862126,-0.09027171627816973,-0.04072630106832859,-0.1223085973069718,-0.04391773563162657,-0.02484345069271933,0.001075403567715108,0.0617607453985199,-0.0673639490289459,-0.005753126388669613,-0.06153341782836335,-0.03204931059926259,-0.07030118022567382,-0.08467146736984986,-0.005780152799895952,-0.08033120027335608,0.24849120830304688,5.353667810210893e-05,0.035477780912925,-0.03543279317331222,-0.002359307739726448,0.007787191576790902,0.00044341657360312114,-0.007896218762825742,0.0009530857793759081,0.00044341657360312114,-0.0012005031468318053,-0.0004188620737695401],[0.44077226051890317,-0.12150151138355923,-0.11237759947611718,-0.03996245293307779,-0.03392898274831442,-0.057707885828793305,1.0,-0.0394618360591087,-0.06817103112229332,-0.03075552401230089,-0.09236451390648769,-0.033165618712050746,-0.01876117703511614,0.05981410860179942,0.05785763159053865,-0.10534457596225953,0.004573830053667525,0.16993136605922643,-0.01096664395921818,-0.03684874177182064,-0.03494240757960016,0.01305618445364631,0.008030753732825968,-0.059359246715207425,0.015553970115816109,-0.0101128421877872,0.010151555539369913,-0.0017816925165834287,0.0015485698839518493,0.002106184678031279,-0.0021891161804885695,0.005822150099186655,0.002106184678031279,-0.007076300869049456,0.0922208429612557],[-0.0013555325741949752,-0.11002101339381437,-0.10175920641921857,-0.03618645989941769,-0.030723083382944,-0.052255153103862126,-0.0394618360591087,1.0,-0.06172965128391733,-0.027849480066212726,-0.08363712768591933,-0.03003184848469648,-0.01698846118340155,-0.01101714249935979,0.011967937516011284,-0.0059495644292841725,0.006767789296664271,-0.02250897217028529,-0.031379587244702335,0.004302564353583978,-0.06636545631741994,0.015141848254011301,-0.005142768905956522,0.1006524989666574,-0.020366863200146423,0.004812135627438306,-0.004778874339675808,-0.0016133430275766093,-0.0003916581352758988,0.0050763544904199554,-0.00116647084710184,0.005142779351312486,0.0050763544904199554,-0.0076236643141060845,-0.004662544896685188],[-0.06573136670494997,-0.19006327827578978,-0.17579085822042712,-0.06251275993123649,-0.05307467879432394,-0.09027171627816973,-0.06817103112229332,-0.06172965128391733,1.0,-0.048110477411383745,-0.14448464146259496,-0.051880558082591004,-0.029347872063500605,0.02284962327503056,-0.018202013166186057,0.004077529638348876,-0.003193686170212605,-0.0737092829213568,0.0018433585726683563,-0.04522536661338892,0.3445637374470175,-0.006828165176287062,-0.07090394564522118,-0.18025691787688386,-0.006890644693096201,-0.017667484560244744,0.017728280717701647,-0.002787079080129977,0.0038894662182101633,0.0030085931165559033,-0.004798652244933176,-0.0009781076165955842,0.0030085931165559033,-0.0002468221243199425,-0.03230086750341445],[-0.19974899303064422,-0.08574750334025864,-0.07930846683897659,-0.028202781408591445,-0.023944768492290033,-0.04072630106832859,-0.03075552401230089,-0.027849480066212726,-0.048110477411383745,1.0,-0.06518459214647772,-0.023406038072363765,-0.013240362791927187,-0.047509656162515346,-0.16829393096596357,0.21663927777044745,-0.0026750915707607218,-0.03498365080956107,-0.02621485837567948,-0.013998243150456237,0.061864622129864016,-0.0030805430779317767,-0.03454461198830572,-0.03266009233298615,0.10927808536537748,0.03260126062810715,-0.0325790429640387,-0.0012573974041752084,-0.004941475770465714,0.0021638900732193133,0.004260767019212892,-0.004970607064131679,0.0021638900732193133,0.004349697572684359,0.09395498918093796],[-0.0643827118182039,-0.25751557546378406,-0.23817796065907187,-0.08469815681155791,-0.07191055829545241,-0.1223085973069718,-0.09236451390648769,-0.08363712768591933,-0.14448464146259496,-0.06518459214647772,1.0,-0.07029265143282719,-0.03976325269999561,0.003944619812747126,-0.055176175895670115,0.057403843248008506,-0.001634883584616299,-0.1360100281338145,-0.08250111220357727,-0.11230019119625073,-0.10659804999698659,-0.009251439313710415,0.4846172769616041,-0.026327397473695516,-0.02334468442415656,0.06940650724172015,-0.069659038467337,0.011601131031091136,-0.009051797754911689,-0.006458563683438273,0.01100112155768853,0.008439738172911843,-0.006458563683438273,-0.006196635049405109,-0.006148639356561232],[-0.004426165967828964,-0.09246693375004328,-0.08552331512110775,-0.0304128355752468,-0.025821152052099314,-0.04391773563162657,-0.033165618712050746,-0.03003184848469648,-0.051880558082591004,-0.023406038072363765,-0.07029265143282719,1.0,-0.014277917156951958,0.005196189343658759,0.006507507232707517,-0.011780193290756103,0.010784114633644717,0.004771208503758956,-0.015327727486624353,0.01646121835012378,0.00920108516312551,-0.0033219436322356024,0.006075064354915303,-0.012899338620723929,-0.018439955522883775,-0.01012967984470739,0.009773925748954318,0.017003069374908295,-0.008956673169803095,0.002687695979638352,0.008101429124428914,0.0009019815269264488,0.002687695979638352,-0.0021045028157077495,0.01475189557285271],[0.047772767187301314,-0.05230683404523923,-0.048378957424186825,-0.017203978533340356,-0.014606548097474888,-0.02484345069271933,-0.01876117703511614,-0.01698846118340155,-0.029347872063500605,-0.013240362791927187,-0.03976325269999561,-0.014277917156951958,1.0,-0.020685492129766475,0.01909672530412342,-0.011321585159522541,0.05170389275641579,0.01672913447438584,0.004320031649033526,-0.013416049756231499,-0.02535100758878295,-0.0018791620661791832,-0.024518312994515196,-0.03133270180484056,0.15897800468816364,-0.05567747084933603,0.05570072861765055,-0.0007670249836676833,0.002079167446845588,-0.00521324051974015,-0.00047321796156000334,-0.0028685634362555527,-0.00521324051974015,0.005269267105544418,-0.00015149284487641612],[0.16612547738315356,0.020012790937311058,-0.05685704857985412,0.006656638021900897,0.02057146903106951,0.001075403567715108,0.05981410860179942,-0.01101714249935979,0.02284962327503056,-0.047509656162515346,0.003944619812747126,0.005196189343658759,-0.020685492129766475,1.0,-0.43967319801384136,-0.2219132111496617,-0.015664926608701283,0.005457453824608201,-0.025070920008647194,-0.024343460027261194,0.02330273597833058,-5.724143784720455e-05,0.01615140848002687,-0.004304061433058787,-0.0026199120238897225,0.025000942309753908,-0.024940510940108566,-0.0030306629319891607,0.0010540324576771504,0.005100074739997916,-0.0026144313813299676,0.0029273871140338904,0.005100074739997916,-0.005283359081290369,-0.010608045255554782],[0.27126555070984565,-0.12049396563404183,0.12927212652181688,0.05104993843952278,0.04249193496179458,0.0617607453985199,0.05785763159053865,0.011967937516011284,-0.018202013166186057,-0.16829393096596357,-0.055176175895670115,0.006507507232707517,0.01909672530412342,-0.43967319801384136,1.0,-0.7737845611327178,-0.05462170682986242,0.11528522074945208,0.08229816439105639,0.0698182325691898,-0.07079223253572041,0.009757847428537643,-0.00256228859219547,-0.10564484201623775,0.001573361597967155,-0.13052296760131818,0.1303949817139855,0.006892989942711268,0.011826517857178162,-0.0036232654761409275,-0.010674427099237317,0.0025602126758292455,-0.0036232654761409275,-0.0011692802154829385,-0.04339777642507534],[-0.41170348776180926,0.11778694492825953,-0.1001924104974363,-0.060244542766862814,-0.06097070720327805,-0.0673639490289459,-0.10534457596225953,-0.0059495644292841725,0.004077529638348876,0.21663927777044745,0.057403843248008506,-0.011780193290756103,-0.011321585159522541,-0.2219132111496617,-0.7737845611327178,1.0,-0.027568836162509297,-0.12883938348585666,-0.0722840104848269,-0.0582848410086876,0.061219934966568294,-0.010482424143754093,-0.007867735165158232,0.11705054589597422,-0.0013909085367554332,0.12366100750939245,-0.12356488479244125,-0.005333689197713148,-0.014452403477097633,0.0006878317400572404,0.014191436842880328,-0.0049888187834014296,0.0006878317400572404,0.004999238236316848,0.05413349870830784],[0.001062273797516412,-0.007918267186811278,-0.005250700742381048,0.0005135934592100438,0.003277507751041275,-0.005753126388669613,0.004573830053667525,0.006767789296664271,-0.003193686170212605,-0.0026750915707607218,-0.001634883584616299,0.010784114633644717,0.05170389275641579,-0.015664926608701283,-0.05462170682986242,-0.027568836162509297,1.0,-0.0038567357768726084,0.0037242159117517578,-0.005829960727740639,-0.0058627212017034105,-0.0009224177227395446,-0.006921467484177515,0.00890290885030636,0.015494084733922955,0.007738484713513406,-0.0077315721323946915,-0.0003765068758319742,0.008675554811702168,-0.003322712252636212,-0.007626542491681936,0.00153359010520998,-0.003322712252636212,-0.00020840363102945215,0.005210793085579798],[0.24407902739297482,-0.18125480669778096,0.265905729699837,-0.004626745750214525,0.18618708626080202,-0.06153341782836335,0.16993136605922643,-0.02250897217028529,-0.0737092829213568,-0.03498365080956107,-0.1360100281338145,0.004771208503758956,0.01672913447438584,0.005457453824608201,0.11528522074945208,-0.12883938348585666,-0.0038567357768726084,1.0,-0.08153870395867731,-0.13931173615325562,-0.18410634838306555,-0.007023519415482581,-0.12828611497513362,-0.2175053103927166,-0.07035508163024311,-0.1636727559766135,0.1637539780827384,-0.002866817589556663,0.010818212372253883,0.008731010376533871,-0.013458316203987802,-0.0015107291457713491,0.008731010376533871,-0.0021249813599907193,-0.010797987827193035],[0.009897359209477038,-0.10449909507851231,0.23118359660950616,-0.0057482178449886805,0.012048741413116201,-0.03204931059926259,-0.01096664395921818,-0.031379587244702335,0.0018433585726683563,-0.02621485837567948,-0.08250111220357727,-0.015327727486624353,0.004320031649033526,-0.025070920008647194,0.08229816439105639,-0.0722840104848269,0.0037242159117517578,-0.08153870395867731,1.0,-0.10067776648257432,-0.13304992430845075,-0.005075755044929471,-0.09270977365621784,-0.15718667682346393,-0.05084419069646649,-0.09704686281875702,0.09710283302901859,-0.002071790933048216,0.0071790928864396775,0.0033947011978710147,-0.008195299928436357,0.0035550202510809203,0.0033947011978710147,-0.005221122575473465,-0.023516789289352955],[-0.03831987562617816,-0.16264114858664142,0.3723031911581722,-0.0013714797234463932,-0.026678400339246535,-0.07030118022567382,-0.03684874177182064,0.004302564353583978,-0.04522536661338892,-0.013998243150456237,-0.11230019119625073,0.01646121835012378,-0.013416049756231499,-0.024343460027261194,0.0698182325691898,-0.0582848410086876,-0.005829960727740639,-0.13931173615325562,-0.10067776648257432,1.0,-0.227320463173696,-0.008672105555615997,-0.15839790062114087,-0.26855895158126675,-0.08686908345785976,-0.061580633488669656,0.06166287462028097,-0.0035397274891171993,0.001367855559804772,0.002554059344104086,-0.002146377808310748,0.005100323313703764,0.002554059344104086,-0.006501699546112625,-0.04513506929531431],[-0.10654962107407111,0.12208048924097355,-0.17387324939659773,-0.03192898013403535,-0.02578317393194472,-0.08467146736984986,-0.03494240757960016,-0.06636545631741994,0.3445637374470175,0.061864622129864016,-0.10659804999698659,0.00920108516312551,-0.02535100758878295,0.02330273597833058,-0.07079223253572041,0.061219934966568294,-0.0058627212017034105,-0.18410634838306555,-0.13304992430845075,-0.227320463173696,1.0,-0.011460554083401464,-0.20932952154742132,-0.35491200717518123,-0.11480116596362078,0.05324848868624392,-0.05329883637277268,0.0020719104398420015,0.007066977176994631,-0.0032734689714988777,-0.006038634598384955,0.0013740656673101375,-0.0032734689714988777,-6.0180225735175476e-05,-0.007452488955100385],[0.017006663960423277,-0.00949788856116912,0.011010024729215235,0.008578500345386528,0.003937731318791928,-0.005780152799895952,0.01305618445364631,0.015141848254011301,-0.006828165176287062,-0.0030805430779317767,-0.009251439313710415,-0.0033219436322356024,-0.0018791620661791832,-5.724143784720455e-05,0.009757847428537643,-0.010482424143754093,-0.0009224177227395446,-0.007023519415482581,-0.005075755044929471,-0.008672105555615997,-0.011460554083401464,1.0,-0.007985764596030714,-0.013539627476594276,-0.004379578570467662,-0.009264639977497992,0.009269577363899762,-0.0001784583656181142,-0.00032255052439975144,-0.0032814152600256453,0.0013277505133548638,0.0004979817285017447,-0.0032814152600256453,0.0008726987059278909,0.007246189070148861],[0.002054016318667923,-0.16146378178973037,-0.12653111589957522,-0.01985769725713743,-0.034930901100978594,-0.08033120027335608,0.008030753732825968,-0.005142768905956522,-0.07090394564522118,-0.03454461198830572,0.4846172769616041,0.006075064354915303,-0.024518312994515196,0.01615140848002687,-0.00256228859219547,-0.007867735165158232,-0.006921467484177515,-0.12828611497513362,-0.09270977365621784,-0.15839790062114087,-0.20932952154742132,-0.007985764596030714,1.0,-0.2473042508224515,-0.07999395841280622,0.05156687625438508,-0.05186353314053765,0.013811513422562394,-0.013241957781966402,-0.00048578434940758263,0.013345095811740513,0.0006424314425013973,-0.00048578434940758263,-0.0004741804441892189,0.0010031761401020185],[-0.07113808711694226,0.32732140462824,-0.33659190701440883,0.05183176396192598,-0.0585278657785038,0.24849120830304688,-0.059359246715207425,0.1006524989666574,-0.18025691787688386,-0.03266009233298615,-0.026327397473695516,-0.012899338620723929,-0.03133270180484056,-0.004304061433058787,-0.10564484201623775,0.11705054589597422,0.00890290885030636,-0.2175053103927166,-0.15718667682346393,-0.26855895158126675,-0.35491200717518123,-0.013539627476594276,-0.2473042508224515,1.0,-0.1356273884940079,0.14279882471005892,-0.14270111046148987,-0.005526523087610509,-0.012234175971735336,-0.00537560847847051,0.013840372204430736,-0.009607016061695702,-0.00537560847847051,0.012487791023870896,0.05036375375790681],[0.06948514747578478,-0.05260397830602698,0.018868730313087452,-0.002746184088703113,-0.0019473908167155377,5.353667810210893e-05,0.015553970115816109,-0.020366863200146423,-0.006890644693096201,0.10927808536537748,-0.02334468442415656,-0.018439955522883775,0.15897800468816364,-0.0026199120238897225,0.001573361597967155,-0.0013909085367554332,0.015494084733922955,-0.07035508163024311,-0.05084419069646649,-0.08686908345785976,-0.11480116596362078,-0.004379578570467662,-0.07999395841280622,-0.1356273884940079,1.0,-0.05554214852071288,0.05558682104701541,-0.0017876298388220086,0.008114562854183162,-0.0012692020051862255,-0.007697245515229599,0.0070548599345836,-0.0012692020051862255,-0.006942993977104041,0.021430064315103286],[-0.1650194644109755,0.12133647556581997,-0.17657852891031753,0.0009739456703719769,-0.03684616057333819,0.035477780912925,-0.0101128421877872,0.004812135627438306,-0.017667484560244744,0.03260126062810715,0.06940650724172015,-0.01012967984470739,-0.05567747084933603,0.025000942309753908,-0.13052296760131818,0.12366100750939245,0.007738484713513406,-0.1636727559766135,-0.09704686281875702,-0.061580633488669656,0.05324848868624392,-0.009264639977497992,0.05156687625438508,0.14279882471005892,-0.05554214852071288,1.0,-0.9997795481748524,-0.01661386665334952,-0.014372466457566036,-0.007912979307764429,0.01674940011977876,-0.001928115114629762,-0.007912979307764429,0.005424175423085785,0.09934448817772387],[0.16500094242463562,-0.12124774570479488,0.1766976868658774,-0.0009397616467662742,0.036880021903465086,-0.03543279317331222,0.010151555539369913,-0.004778874339675808,0.017728280717701647,-0.0325790429640387,-0.069659038467337,0.009773925748954318,0.05570072861765055,-0.024940510940108566,0.1303949817139855,-0.12356488479244125,-0.0077315721323946915,0.1637539780827384,0.09710283302901859,0.06166287462028097,-0.05329883637277268,0.009269577363899762,-0.05186353314053765,-0.14270111046148987,0.05558682104701541,-0.9997795481748524,1.0,-0.0043834465210095905,0.014297053692238434,0.007942121984419357,-0.016683185630502695,0.0018456088660446716,0.007942121984419357,-0.005349082731317812,-0.09929338741810341],[0.0018912625147116142,-0.004967422598813361,-0.004594403978036387,-0.0016338100616470682,-0.0013871399107676721,-0.002359307739726448,-0.0017816925165834287,-0.0016133430275766093,-0.002787079080129977,-0.0012573974041752084,0.011601131031091136,0.017003069374908295,-0.0007670249836676833,-0.0030306629319891607,0.006892989942711268,-0.005333689197713148,-0.0003765068758319742,-0.002866817589556663,-0.002071790933048216,-0.0035397274891171993,0.0020719104398420015,-0.0001784583656181142,0.013811513422562394,-0.005526523087610509,-0.0017876298388220086,-0.01661386665334952,-0.0043834465210095905,1.0,0.003679078989152328,-0.0013393881940931159,-0.00325559135804918,0.003940764591333352,-0.0013393881940931159,-0.0036091102778686894,-0.0030410129835291293],[0.0017551531914485787,-0.008529428061964436,0.01403294547850968,-0.0045673497414350775,0.003620074020796012,0.007787191576790902,0.0015485698839518493,-0.0003916581352758988,0.0038894662182101633,-0.004941475770465714,-0.009051797754911689,-0.008956673169803095,0.002079167446845588,0.0010540324576771504,0.011826517857178162,-0.014452403477097633,0.008675554811702168,0.010818212372253883,0.0071790928864396775,0.001367855559804772,0.007066977176994631,-0.00032255052439975144,-0.013241957781966402,-0.012234175971735336,0.008114562854183162,-0.014372466457566036,0.014297053692238434,0.003679078989152328,1.0,-0.14256116759059134,-0.9528189669498219,0.09170346495491809,-0.14256116759059134,-0.036425296609778786,-0.011085158131250286],[-0.0010924708080766391,-0.008570203650961589,0.006673034029420848,0.0008613381192526129,0.0035255527010909457,0.00044341657360312114,0.002106184678031279,0.0050763544904199554,0.0030085931165559033,0.0021638900732193133,-0.006458563683438273,0.002687695979638352,-0.00521324051974015,0.005100074739997916,-0.0036232654761409275,0.0006878317400572404,-0.003322712252636212,0.008731010376533871,0.0033947011978710147,0.002554059344104086,-0.0032734689714988777,-0.0032814152600256453,-0.00048578434940758263,-0.00537560847847051,-0.0012692020051862255,-0.007912979307764429,0.007942121984419357,-0.0013393881940931159,-0.14256116759059134,1.0,-0.16460381584502531,-0.33988028542449505,1.0,-0.06636275917855676,-0.0022700266583405913],[-0.0014140479201087265,0.011128139879690292,-0.016030798548996264,0.004287391615655182,-0.004688729340891888,-0.007896218762825742,-0.0021891161804885695,-0.00116647084710184,-0.004798652244933176,0.004260767019212892,0.01100112155768853,0.008101429124428914,-0.00047321796156000334,-0.0026144313813299676,-0.010674427099237317,0.014191436842880328,-0.007626542491681936,-0.013458316203987802,-0.008195299928436357,-0.002146377808310748,-0.006038634598384955,0.0013277505133548638,0.013345095811740513,0.013840372204430736,-0.007697245515229599,0.01674940011977876,-0.016683185630502695,-0.00325559135804918,-0.9528189669498219,-0.16460381584502531,1.0,0.012845569988071166,-0.16460381584502531,0.056650773902536526,0.011742938367143569],[0.007224257255461233,-0.015485364573334763,0.0030894144636642116,0.004789391804690267,0.0013192551825246593,0.0009530857793759081,0.005822150099186655,0.005142779351312486,-0.0009781076165955842,-0.004970607064131679,0.008439738172911843,0.0009019815269264488,-0.0028685634362555527,0.0029273871140338904,0.0025602126758292455,-0.0049888187834014296,0.00153359010520998,-0.0015107291457713491,0.0035550202510809203,0.005100323313703764,0.0013740656673101375,0.0004979817285017447,0.0006424314425013973,-0.009607016061695702,0.0070548599345836,-0.001928115114629762,0.0018456088660446716,0.003940764591333352,0.09170346495491809,-0.33988028542449505,0.012845569988071166,1.0,-0.339880285424495,-0.9158401102684479,0.005123050777054505],[-0.0010924708080766391,-0.008570203650961589,0.006673034029420848,0.0008613381192526129,0.0035255527010909457,0.00044341657360312114,0.002106184678031279,0.0050763544904199554,0.0030085931165559033,0.0021638900732193133,-0.006458563683438273,0.002687695979638352,-0.00521324051974015,0.005100074739997916,-0.0036232654761409275,0.0006878317400572404,-0.003322712252636212,0.008731010376533871,0.0033947011978710147,0.002554059344104086,-0.0032734689714988777,-0.0032814152600256453,-0.00048578434940758263,-0.00537560847847051,-0.0012692020051862255,-0.007912979307764429,0.007942121984419357,-0.0013393881940931159,-0.14256116759059134,1.0,-0.16460381584502531,-0.339880285424495,1.0,-0.06636275917855676,-0.0022700266583405913],[-0.0071981742850918615,0.020088424375771748,-0.006126854642379788,-0.005449089645383051,-0.0029049435033903824,-0.0012005031468318053,-0.007076300869049456,-0.0076236643141060845,-0.0002468221243199425,0.004349697572684359,-0.006196635049405109,-0.0021045028157077495,0.005269267105544418,-0.005283359081290369,-0.0011692802154829385,0.004999238236316848,-0.00020840363102945215,-0.0021249813599907193,-0.005221122575473465,-0.006501699546112625,-6.0180225735175476e-05,0.0008726987059278909,-0.0004741804441892189,0.012487791023870896,-0.006942993977104041,0.005424175423085785,-0.005349082731317812,-0.0036091102778686894,-0.036425296609778786,-0.06636275917855676,0.056650773902536526,-0.9158401102684479,-0.06636275917855676,1.0,-0.00446611744048806],[0.03039880304000368,0.03142601398266647,-0.0744232871682964,-0.016643882021650524,-0.0065049323428597585,-0.0004188620737695401,0.0922208429612557,-0.004662544896685188,-0.03230086750341445,0.09395498918093796,-0.006148639356561232,0.01475189557285271,-0.00015149284487641612,-0.010608045255554782,-0.04339777642507534,0.05413349870830784,0.005210793085579798,-0.010797987827193035,-0.023516789289352955,-0.04513506929531431,-0.007452488955100385,0.007246189070148861,0.0010031761401020185,0.05036375375790681,0.021430064315103286,0.09934448817772387,-0.09929338741810341,-0.0030410129835291293,-0.011085158131250286,-0.0022700266583405913,0.011742938367143569,0.005123050777054505,-0.0022700266583405913,-0.00446611744048806,1.0]],\"type\":\"heatmap\"}],                        {\"template\":{\"data\":{\"bar\":[{\"error_x\":{\"color\":\"#2a3f5f\"},\"error_y\":{\"color\":\"#2a3f5f\"},\"marker\":{\"line\":{\"color\":\"#E5ECF6\",\"width\":0.5},\"pattern\":{\"fillmode\":\"overlay\",\"size\":10,\"solidity\":0.2}},\"type\":\"bar\"}],\"barpolar\":[{\"marker\":{\"line\":{\"color\":\"#E5ECF6\",\"width\":0.5},\"pattern\":{\"fillmode\":\"overlay\",\"size\":10,\"solidity\":0.2}},\"type\":\"barpolar\"}],\"carpet\":[{\"aaxis\":{\"endlinecolor\":\"#2a3f5f\",\"gridcolor\":\"white\",\"linecolor\":\"white\",\"minorgridcolor\":\"white\",\"startlinecolor\":\"#2a3f5f\"},\"baxis\":{\"endlinecolor\":\"#2a3f5f\",\"gridcolor\":\"white\",\"linecolor\":\"white\",\"minorgridcolor\":\"white\",\"startlinecolor\":\"#2a3f5f\"},\"type\":\"carpet\"}],\"choropleth\":[{\"colorbar\":{\"outlinewidth\":0,\"ticks\":\"\"},\"type\":\"choropleth\"}],\"contour\":[{\"colorbar\":{\"outlinewidth\":0,\"ticks\":\"\"},\"colorscale\":[[0.0,\"#0d0887\"],[0.1111111111111111,\"#46039f\"],[0.2222222222222222,\"#7201a8\"],[0.3333333333333333,\"#9c179e\"],[0.4444444444444444,\"#bd3786\"],[0.5555555555555556,\"#d8576b\"],[0.6666666666666666,\"#ed7953\"],[0.7777777777777778,\"#fb9f3a\"],[0.8888888888888888,\"#fdca26\"],[1.0,\"#f0f921\"]],\"type\":\"contour\"}],\"contourcarpet\":[{\"colorbar\":{\"outlinewidth\":0,\"ticks\":\"\"},\"type\":\"contourcarpet\"}],\"heatmap\":[{\"colorbar\":{\"outlinewidth\":0,\"ticks\":\"\"},\"colorscale\":[[0.0,\"#0d0887\"],[0.1111111111111111,\"#46039f\"],[0.2222222222222222,\"#7201a8\"],[0.3333333333333333,\"#9c179e\"],[0.4444444444444444,\"#bd3786\"],[0.5555555555555556,\"#d8576b\"],[0.6666666666666666,\"#ed7953\"],[0.7777777777777778,\"#fb9f3a\"],[0.8888888888888888,\"#fdca26\"],[1.0,\"#f0f921\"]],\"type\":\"heatmap\"}],\"heatmapgl\":[{\"colorbar\":{\"outlinewidth\":0,\"ticks\":\"\"},\"colorscale\":[[0.0,\"#0d0887\"],[0.1111111111111111,\"#46039f\"],[0.2222222222222222,\"#7201a8\"],[0.3333333333333333,\"#9c179e\"],[0.4444444444444444,\"#bd3786\"],[0.5555555555555556,\"#d8576b\"],[0.6666666666666666,\"#ed7953\"],[0.7777777777777778,\"#fb9f3a\"],[0.8888888888888888,\"#fdca26\"],[1.0,\"#f0f921\"]],\"type\":\"heatmapgl\"}],\"histogram\":[{\"marker\":{\"pattern\":{\"fillmode\":\"overlay\",\"size\":10,\"solidity\":0.2}},\"type\":\"histogram\"}],\"histogram2d\":[{\"colorbar\":{\"outlinewidth\":0,\"ticks\":\"\"},\"colorscale\":[[0.0,\"#0d0887\"],[0.1111111111111111,\"#46039f\"],[0.2222222222222222,\"#7201a8\"],[0.3333333333333333,\"#9c179e\"],[0.4444444444444444,\"#bd3786\"],[0.5555555555555556,\"#d8576b\"],[0.6666666666666666,\"#ed7953\"],[0.7777777777777778,\"#fb9f3a\"],[0.8888888888888888,\"#fdca26\"],[1.0,\"#f0f921\"]],\"type\":\"histogram2d\"}],\"histogram2dcontour\":[{\"colorbar\":{\"outlinewidth\":0,\"ticks\":\"\"},\"colorscale\":[[0.0,\"#0d0887\"],[0.1111111111111111,\"#46039f\"],[0.2222222222222222,\"#7201a8\"],[0.3333333333333333,\"#9c179e\"],[0.4444444444444444,\"#bd3786\"],[0.5555555555555556,\"#d8576b\"],[0.6666666666666666,\"#ed7953\"],[0.7777777777777778,\"#fb9f3a\"],[0.8888888888888888,\"#fdca26\"],[1.0,\"#f0f921\"]],\"type\":\"histogram2dcontour\"}],\"mesh3d\":[{\"colorbar\":{\"outlinewidth\":0,\"ticks\":\"\"},\"type\":\"mesh3d\"}],\"parcoords\":[{\"line\":{\"colorbar\":{\"outlinewidth\":0,\"ticks\":\"\"}},\"type\":\"parcoords\"}],\"pie\":[{\"automargin\":true,\"type\":\"pie\"}],\"scatter\":[{\"marker\":{\"colorbar\":{\"outlinewidth\":0,\"ticks\":\"\"}},\"type\":\"scatter\"}],\"scatter3d\":[{\"line\":{\"colorbar\":{\"outlinewidth\":0,\"ticks\":\"\"}},\"marker\":{\"colorbar\":{\"outlinewidth\":0,\"ticks\":\"\"}},\"type\":\"scatter3d\"}],\"scattercarpet\":[{\"marker\":{\"colorbar\":{\"outlinewidth\":0,\"ticks\":\"\"}},\"type\":\"scattercarpet\"}],\"scattergeo\":[{\"marker\":{\"colorbar\":{\"outlinewidth\":0,\"ticks\":\"\"}},\"type\":\"scattergeo\"}],\"scattergl\":[{\"marker\":{\"colorbar\":{\"outlinewidth\":0,\"ticks\":\"\"}},\"type\":\"scattergl\"}],\"scattermapbox\":[{\"marker\":{\"colorbar\":{\"outlinewidth\":0,\"ticks\":\"\"}},\"type\":\"scattermapbox\"}],\"scatterpolar\":[{\"marker\":{\"colorbar\":{\"outlinewidth\":0,\"ticks\":\"\"}},\"type\":\"scatterpolar\"}],\"scatterpolargl\":[{\"marker\":{\"colorbar\":{\"outlinewidth\":0,\"ticks\":\"\"}},\"type\":\"scatterpolargl\"}],\"scatterternary\":[{\"marker\":{\"colorbar\":{\"outlinewidth\":0,\"ticks\":\"\"}},\"type\":\"scatterternary\"}],\"surface\":[{\"colorbar\":{\"outlinewidth\":0,\"ticks\":\"\"},\"colorscale\":[[0.0,\"#0d0887\"],[0.1111111111111111,\"#46039f\"],[0.2222222222222222,\"#7201a8\"],[0.3333333333333333,\"#9c179e\"],[0.4444444444444444,\"#bd3786\"],[0.5555555555555556,\"#d8576b\"],[0.6666666666666666,\"#ed7953\"],[0.7777777777777778,\"#fb9f3a\"],[0.8888888888888888,\"#fdca26\"],[1.0,\"#f0f921\"]],\"type\":\"surface\"}],\"table\":[{\"cells\":{\"fill\":{\"color\":\"#EBF0F8\"},\"line\":{\"color\":\"white\"}},\"header\":{\"fill\":{\"color\":\"#C8D4E3\"},\"line\":{\"color\":\"white\"}},\"type\":\"table\"}]},\"layout\":{\"annotationdefaults\":{\"arrowcolor\":\"#2a3f5f\",\"arrowhead\":0,\"arrowwidth\":1},\"autotypenumbers\":\"strict\",\"coloraxis\":{\"colorbar\":{\"outlinewidth\":0,\"ticks\":\"\"}},\"colorscale\":{\"diverging\":[[0,\"#8e0152\"],[0.1,\"#c51b7d\"],[0.2,\"#de77ae\"],[0.3,\"#f1b6da\"],[0.4,\"#fde0ef\"],[0.5,\"#f7f7f7\"],[0.6,\"#e6f5d0\"],[0.7,\"#b8e186\"],[0.8,\"#7fbc41\"],[0.9,\"#4d9221\"],[1,\"#276419\"]],\"sequential\":[[0.0,\"#0d0887\"],[0.1111111111111111,\"#46039f\"],[0.2222222222222222,\"#7201a8\"],[0.3333333333333333,\"#9c179e\"],[0.4444444444444444,\"#bd3786\"],[0.5555555555555556,\"#d8576b\"],[0.6666666666666666,\"#ed7953\"],[0.7777777777777778,\"#fb9f3a\"],[0.8888888888888888,\"#fdca26\"],[1.0,\"#f0f921\"]],\"sequentialminus\":[[0.0,\"#0d0887\"],[0.1111111111111111,\"#46039f\"],[0.2222222222222222,\"#7201a8\"],[0.3333333333333333,\"#9c179e\"],[0.4444444444444444,\"#bd3786\"],[0.5555555555555556,\"#d8576b\"],[0.6666666666666666,\"#ed7953\"],[0.7777777777777778,\"#fb9f3a\"],[0.8888888888888888,\"#fdca26\"],[1.0,\"#f0f921\"]]},\"colorway\":[\"#636efa\",\"#EF553B\",\"#00cc96\",\"#ab63fa\",\"#FFA15A\",\"#19d3f3\",\"#FF6692\",\"#B6E880\",\"#FF97FF\",\"#FECB52\"],\"font\":{\"color\":\"#2a3f5f\"},\"geo\":{\"bgcolor\":\"white\",\"lakecolor\":\"white\",\"landcolor\":\"#E5ECF6\",\"showlakes\":true,\"showland\":true,\"subunitcolor\":\"white\"},\"hoverlabel\":{\"align\":\"left\"},\"hovermode\":\"closest\",\"mapbox\":{\"style\":\"light\"},\"paper_bgcolor\":\"white\",\"plot_bgcolor\":\"#E5ECF6\",\"polar\":{\"angularaxis\":{\"gridcolor\":\"white\",\"linecolor\":\"white\",\"ticks\":\"\"},\"bgcolor\":\"#E5ECF6\",\"radialaxis\":{\"gridcolor\":\"white\",\"linecolor\":\"white\",\"ticks\":\"\"}},\"scene\":{\"xaxis\":{\"backgroundcolor\":\"#E5ECF6\",\"gridcolor\":\"white\",\"gridwidth\":2,\"linecolor\":\"white\",\"showbackground\":true,\"ticks\":\"\",\"zerolinecolor\":\"white\"},\"yaxis\":{\"backgroundcolor\":\"#E5ECF6\",\"gridcolor\":\"white\",\"gridwidth\":2,\"linecolor\":\"white\",\"showbackground\":true,\"ticks\":\"\",\"zerolinecolor\":\"white\"},\"zaxis\":{\"backgroundcolor\":\"#E5ECF6\",\"gridcolor\":\"white\",\"gridwidth\":2,\"linecolor\":\"white\",\"showbackground\":true,\"ticks\":\"\",\"zerolinecolor\":\"white\"}},\"shapedefaults\":{\"line\":{\"color\":\"#2a3f5f\"}},\"ternary\":{\"aaxis\":{\"gridcolor\":\"white\",\"linecolor\":\"white\",\"ticks\":\"\"},\"baxis\":{\"gridcolor\":\"white\",\"linecolor\":\"white\",\"ticks\":\"\"},\"bgcolor\":\"#E5ECF6\",\"caxis\":{\"gridcolor\":\"white\",\"linecolor\":\"white\",\"ticks\":\"\"}},\"title\":{\"x\":0.05},\"xaxis\":{\"automargin\":true,\"gridcolor\":\"white\",\"linecolor\":\"white\",\"ticks\":\"\",\"title\":{\"standoff\":15},\"zerolinecolor\":\"white\",\"zerolinewidth\":2},\"yaxis\":{\"automargin\":true,\"gridcolor\":\"white\",\"linecolor\":\"white\",\"ticks\":\"\",\"title\":{\"standoff\":15},\"zerolinecolor\":\"white\",\"zerolinewidth\":2}}},\"title\":{\"text\":\"Correlation Matrix\"}},                        {\"responsive\": true}                    ).then(function(){\n",
       "                            \n",
       "var gd = document.getElementById('5a661747-f916-4659-b98b-f171b888b3e7');\n",
       "var x = new MutationObserver(function (mutations, observer) {{\n",
       "        var display = window.getComputedStyle(gd).display;\n",
       "        if (!display || display === 'none') {{\n",
       "            console.log([gd, 'removed!']);\n",
       "            Plotly.purge(gd);\n",
       "            observer.disconnect();\n",
       "        }}\n",
       "}});\n",
       "\n",
       "// Listen for the removal of the full notebook cells\n",
       "var notebookContainer = gd.closest('#notebook-container');\n",
       "if (notebookContainer) {{\n",
       "    x.observe(notebookContainer, {childList: true});\n",
       "}}\n",
       "\n",
       "// Listen for the clearing of the current output cell\n",
       "var outputEl = gd.closest('.output');\n",
       "if (outputEl) {{\n",
       "    x.observe(outputEl, {childList: true});\n",
       "}}\n",
       "\n",
       "                        })                };                });            </script>        </div>"
      ]
     },
     "metadata": {},
     "output_type": "display_data"
    }
   ],
   "source": [
    "fig = go.Figure()\n",
    "fig.add_trace(\n",
    "    go.Heatmap(\n",
    "        x = df_for_corr.corr().columns,\n",
    "        y = df_for_corr.corr().index,\n",
    "        z = np.array(df_for_corr.corr()\n",
    "        )\n",
    "    )\n",
    ")\n",
    "fig.update_layout(title = 'Correlation Matrix')"
   ]
  },
  {
   "cell_type": "code",
   "execution_count": 88,
   "metadata": {},
   "outputs": [
    {
     "data": {
      "text/plain": [
       "y                         1.000000\n",
       "encode__default_no        0.099344\n",
       "encode__job_student       0.093955\n",
       "encode__job_retired       0.092221\n",
       "encode__marital_single    0.054133\n",
       "Name: y, dtype: float64"
      ]
     },
     "execution_count": 88,
     "metadata": {},
     "output_type": "execute_result"
    }
   ],
   "source": [
    "# Let's identify parameters with highest correlation with y\n",
    "df_for_corr.corr().sort_values('y', ascending=False)['y'].head(5)"
   ]
  },
  {
   "cell_type": "markdown",
   "metadata": {},
   "source": [
    "### Problem 6: Train/Test Split\n",
    "\n",
    "With your data prepared, split it into a train and test set."
   ]
  },
  {
   "cell_type": "code",
   "execution_count": 23,
   "metadata": {},
   "outputs": [],
   "source": [
    "X_t_train, X_t_test, y_train, y_test = train_test_split(X_transformed, y, test_size = .2, random_state = 32)"
   ]
  },
  {
   "cell_type": "markdown",
   "metadata": {},
   "source": [
    "### Problem 7: A Baseline Model\n",
    "\n",
    "Before we build our first model, we want to establish a baseline.  What is the baseline performance that our classifier should aim to beat?"
   ]
  },
  {
   "cell_type": "code",
   "execution_count": 31,
   "metadata": {},
   "outputs": [
    {
     "data": {
      "text/plain": [
       "0.8873458288821987"
      ]
     },
     "execution_count": 31,
     "metadata": {},
     "output_type": "execute_result"
    }
   ],
   "source": [
    "# Baseline accuracy is equal to the frequency of the most common class (0)\n",
    "1-y.sum()/len(y)"
   ]
  },
  {
   "cell_type": "markdown",
   "metadata": {},
   "source": [
    "### Problem 8: A Simple Model\n",
    "\n",
    "Use Logistic Regression to build a basic model on your data.  "
   ]
  },
  {
   "cell_type": "code",
   "execution_count": 33,
   "metadata": {},
   "outputs": [
    {
     "name": "stdout",
     "output_type": "stream",
     "text": [
      "0.16s elapsed during training\n"
     ]
    }
   ],
   "source": [
    "start_time = time.time()\n",
    "lr = LogisticRegression(max_iter = 1000).fit(X_t_train,y_train)\n",
    "lr_elapsed_time = time.time() - start_time\n",
    "print(f'{lr_elapsed_time:.2f}s elapsed during training')"
   ]
  },
  {
   "cell_type": "markdown",
   "metadata": {},
   "source": [
    "### Problem 9: Score the Model\n",
    "\n",
    "What is the accuracy of your model?"
   ]
  },
  {
   "cell_type": "code",
   "execution_count": 34,
   "metadata": {},
   "outputs": [
    {
     "name": "stdout",
     "output_type": "stream",
     "text": [
      "0.8833454722019908\n"
     ]
    }
   ],
   "source": [
    "acc_sc = accuracy_score(y_test, lr.predict(X_t_test))\n",
    "print(acc_sc)"
   ]
  },
  {
   "cell_type": "markdown",
   "metadata": {},
   "source": [
    "### Problem 10: Model Comparisons\n",
    "\n",
    "Now, we aim to compare the performance of the Logistic Regression model to our KNN algorithm, Decision Tree, and SVM models.  Using the default settings for each of the models, fit and score each.  Also, be sure to compare the fit time of each of the models.  Present your findings in a `DataFrame` similar to that below:\n",
    "\n",
    "| Model | Train Time | Train Accuracy | Test Accuracy |\n",
    "| ----- | ---------- | -------------  | -----------   |\n",
    "|     |    |.     |.     |"
   ]
  },
  {
   "cell_type": "code",
   "execution_count": 35,
   "metadata": {},
   "outputs": [
    {
     "name": "stdout",
     "output_type": "stream",
     "text": [
      "0.00s elapsed during training\n"
     ]
    }
   ],
   "source": [
    "start_time=time.time()\n",
    "knn = KNeighborsClassifier().fit(X_t_train,y_train)\n",
    "knn_elapsed_time = time.time() - start_time\n",
    "print(f'{knn_elapsed_time:.2f}s elapsed during training')"
   ]
  },
  {
   "cell_type": "code",
   "execution_count": 36,
   "metadata": {},
   "outputs": [
    {
     "name": "stdout",
     "output_type": "stream",
     "text": [
      "0.09s elapsed during training\n"
     ]
    }
   ],
   "source": [
    "start_time=time.time()\n",
    "dt = DecisionTreeClassifier().fit(X_t_train,y_train)\n",
    "dt_elapsed_time = time.time() - start_time\n",
    "print(f'{dt_elapsed_time:.2f}s elapsed during training')"
   ]
  },
  {
   "cell_type": "code",
   "execution_count": 37,
   "metadata": {},
   "outputs": [
    {
     "name": "stdout",
     "output_type": "stream",
     "text": [
      "40.66s elapsed during training\n"
     ]
    }
   ],
   "source": [
    "start_time=time.time()\n",
    "svm = SVC().fit(X_t_train,y_train)\n",
    "svm_elapsed_time = time.time() - start_time\n",
    "print(f'{svm_elapsed_time:.2f}s elapsed during training')"
   ]
  },
  {
   "cell_type": "code",
   "execution_count": 38,
   "metadata": {},
   "outputs": [],
   "source": [
    "results = pd.DataFrame({'model':['Logistic Regression',' KNN', 'Decision Tree', 'SVM'],\\\n",
    "                       'Train Time':[lr_elapsed_time,knn_elapsed_time,dt_elapsed_time,svm_elapsed_time],\\\n",
    "                       'Train Accuracy': [accuracy_score(y_train, lr.predict(X_t_train)), accuracy_score(y_train,knn.predict(X_t_train)),\\\n",
    "                        accuracy_score(y_train, dt.predict(X_t_train)),accuracy_score(y_train, svm.predict(X_t_train))],\\\n",
    "                       'Test Accuracy':[accuracy_score(y_test, lr.predict(X_t_test)), accuracy_score(y_test,knn.predict(X_t_test)),\\\n",
    "                        accuracy_score(y_test, dt.predict(X_t_test)),accuracy_score(y_test, svm.predict(X_t_test))]})"
   ]
  },
  {
   "cell_type": "code",
   "execution_count": 91,
   "metadata": {},
   "outputs": [
    {
     "data": {
      "text/html": [
       "<div>\n",
       "<style scoped>\n",
       "    .dataframe tbody tr th:only-of-type {\n",
       "        vertical-align: middle;\n",
       "    }\n",
       "\n",
       "    .dataframe tbody tr th {\n",
       "        vertical-align: top;\n",
       "    }\n",
       "\n",
       "    .dataframe thead th {\n",
       "        text-align: right;\n",
       "    }\n",
       "</style>\n",
       "<table border=\"1\" class=\"dataframe\">\n",
       "  <thead>\n",
       "    <tr style=\"text-align: right;\">\n",
       "      <th></th>\n",
       "      <th>Train Time</th>\n",
       "      <th>Train Accuracy</th>\n",
       "      <th>Test Accuracy</th>\n",
       "    </tr>\n",
       "    <tr>\n",
       "      <th>model</th>\n",
       "      <th></th>\n",
       "      <th></th>\n",
       "      <th></th>\n",
       "    </tr>\n",
       "  </thead>\n",
       "  <tbody>\n",
       "    <tr>\n",
       "      <th>Logistic Regression</th>\n",
       "      <td>0.157644</td>\n",
       "      <td>0.888346</td>\n",
       "      <td>0.883345</td>\n",
       "    </tr>\n",
       "    <tr>\n",
       "      <th>KNN</th>\n",
       "      <td>0.003002</td>\n",
       "      <td>0.891108</td>\n",
       "      <td>0.870114</td>\n",
       "    </tr>\n",
       "    <tr>\n",
       "      <th>Decision Tree</th>\n",
       "      <td>0.087584</td>\n",
       "      <td>0.917360</td>\n",
       "      <td>0.863074</td>\n",
       "    </tr>\n",
       "    <tr>\n",
       "      <th>SVM</th>\n",
       "      <td>40.661565</td>\n",
       "      <td>0.889378</td>\n",
       "      <td>0.882496</td>\n",
       "    </tr>\n",
       "  </tbody>\n",
       "</table>\n",
       "</div>"
      ],
      "text/plain": [
       "                     Train Time  Train Accuracy  Test Accuracy\n",
       "model                                                         \n",
       "Logistic Regression    0.157644        0.888346       0.883345\n",
       " KNN                   0.003002        0.891108       0.870114\n",
       "Decision Tree          0.087584        0.917360       0.863074\n",
       "SVM                   40.661565        0.889378       0.882496"
      ]
     },
     "execution_count": 91,
     "metadata": {},
     "output_type": "execute_result"
    }
   ],
   "source": [
    "results.set_index('model')"
   ]
  },
  {
   "cell_type": "markdown",
   "metadata": {},
   "source": [
    "### Problem 11: Improving the Model\n",
    "\n",
    "Now that we have some basic models on the board, we want to try to improve these.  Below, we list a few things to explore in this pursuit.\n",
    "\n",
    "- More feature engineering and exploration.  For example, should we keep the gender feature?  Why or why not?\n",
    "- Hyperparameter tuning and grid search.  All of our models have additional hyperparameters to tune and explore.  For example the number of neighbors in KNN or the maximum depth of a Decision Tree.  \n",
    "- Adjust your performance metric"
   ]
  },
  {
   "cell_type": "code",
   "execution_count": 40,
   "metadata": {},
   "outputs": [],
   "source": [
    "lr_params = {'penalty': ['l1', 'l2'], 'C': np.linspace(0.01,100, 1000)}"
   ]
  },
  {
   "cell_type": "code",
   "execution_count": 41,
   "metadata": {},
   "outputs": [],
   "source": [
    "lr_grid = RandomizedSearchCV(lr, param_distributions = lr_params, scoring = 'roc_auc', n_jobs = -1)"
   ]
  },
  {
   "cell_type": "code",
   "execution_count": 42,
   "metadata": {},
   "outputs": [
    {
     "name": "stderr",
     "output_type": "stream",
     "text": [
      "C:\\Users\\ilyak\\anaconda3\\lib\\site-packages\\sklearn\\model_selection\\_validation.py:378: FitFailedWarning:\n",
      "\n",
      "\n",
      "30 fits failed out of a total of 50.\n",
      "The score on these train-test partitions for these parameters will be set to nan.\n",
      "If these failures are not expected, you can try to debug them by setting error_score='raise'.\n",
      "\n",
      "Below are more details about the failures:\n",
      "--------------------------------------------------------------------------------\n",
      "30 fits failed with the following error:\n",
      "Traceback (most recent call last):\n",
      "  File \"C:\\Users\\ilyak\\anaconda3\\lib\\site-packages\\sklearn\\model_selection\\_validation.py\", line 686, in _fit_and_score\n",
      "    estimator.fit(X_train, y_train, **fit_params)\n",
      "  File \"C:\\Users\\ilyak\\anaconda3\\lib\\site-packages\\sklearn\\linear_model\\_logistic.py\", line 1091, in fit\n",
      "    solver = _check_solver(self.solver, self.penalty, self.dual)\n",
      "  File \"C:\\Users\\ilyak\\anaconda3\\lib\\site-packages\\sklearn\\linear_model\\_logistic.py\", line 61, in _check_solver\n",
      "    raise ValueError(\n",
      "ValueError: Solver lbfgs supports only 'l2' or 'none' penalties, got l1 penalty.\n",
      "\n",
      "\n",
      "C:\\Users\\ilyak\\anaconda3\\lib\\site-packages\\sklearn\\model_selection\\_search.py:953: UserWarning:\n",
      "\n",
      "One or more of the test scores are non-finite: [       nan        nan        nan 0.64984165        nan 0.64984764\n",
      " 0.64985233        nan 0.64984889        nan]\n",
      "\n"
     ]
    },
    {
     "name": "stdout",
     "output_type": "stream",
     "text": [
      "4.98s elapsed during training\n"
     ]
    }
   ],
   "source": [
    "start_time=time.time()\n",
    "lr_grid.fit(X_t_train,y_train)\n",
    "lrg_elapsed_time = time.time() - start_time\n",
    "print(f'{lrg_elapsed_time:.2f}s elapsed during training')"
   ]
  },
  {
   "cell_type": "code",
   "execution_count": 43,
   "metadata": {},
   "outputs": [],
   "source": [
    "knn_params = {'n_neighbors': range(1,len(y_test),2)}"
   ]
  },
  {
   "cell_type": "code",
   "execution_count": 44,
   "metadata": {},
   "outputs": [],
   "source": [
    "knn_grid = RandomizedSearchCV(knn, param_distributions = knn_params, scoring = 'roc_auc', n_jobs = -1)"
   ]
  },
  {
   "cell_type": "code",
   "execution_count": 45,
   "metadata": {},
   "outputs": [
    {
     "name": "stdout",
     "output_type": "stream",
     "text": [
      "66.46s elapsed during training\n"
     ]
    }
   ],
   "source": [
    "start_time=time.time()\n",
    "knn_grid.fit(X_t_train,y_train)\n",
    "kng_elapsed_time = time.time() - start_time\n",
    "print(f'{kng_elapsed_time:.2f}s elapsed during training')"
   ]
  },
  {
   "cell_type": "code",
   "execution_count": 92,
   "metadata": {},
   "outputs": [],
   "source": [
    "dt_params = {'criterion': ['gini','entropy','log_loss'], 'max_depth':range(1,15,1), 'ccp_alpha' : range(0,1,100)}"
   ]
  },
  {
   "cell_type": "code",
   "execution_count": 93,
   "metadata": {},
   "outputs": [],
   "source": [
    "dt_grid = RandomizedSearchCV(dt, param_distributions = dt_params, scoring = 'roc_auc', n_jobs = -1)"
   ]
  },
  {
   "cell_type": "code",
   "execution_count": 94,
   "metadata": {},
   "outputs": [
    {
     "name": "stdout",
     "output_type": "stream",
     "text": [
      "0.60s elapsed during training\n"
     ]
    }
   ],
   "source": [
    "start_time=time.time()\n",
    "dt_grid.fit(X_t_train,y_train)\n",
    "dtg_elapsed_time = time.time() - start_time\n",
    "print(f'{kng_elapsed_time:.2f}s elapsed during training')"
   ]
  },
  {
   "cell_type": "code",
   "execution_count": 95,
   "metadata": {},
   "outputs": [],
   "source": [
    "grid_summary = pd.DataFrame({'model':['Logistic Regression','KNN','Decision Tree'],\\\n",
    "        'run time': [lrg_elapsed_time, kng_elapsed_time, dtg_elapsed_time],\\\n",
    "        'auc score': [lr_grid.best_score_, knn_grid.best_score_, dt_grid.best_score_]})"
   ]
  },
  {
   "cell_type": "code",
   "execution_count": 96,
   "metadata": {},
   "outputs": [
    {
     "data": {
      "text/html": [
       "<div>\n",
       "<style scoped>\n",
       "    .dataframe tbody tr th:only-of-type {\n",
       "        vertical-align: middle;\n",
       "    }\n",
       "\n",
       "    .dataframe tbody tr th {\n",
       "        vertical-align: top;\n",
       "    }\n",
       "\n",
       "    .dataframe thead th {\n",
       "        text-align: right;\n",
       "    }\n",
       "</style>\n",
       "<table border=\"1\" class=\"dataframe\">\n",
       "  <thead>\n",
       "    <tr style=\"text-align: right;\">\n",
       "      <th></th>\n",
       "      <th>run time</th>\n",
       "      <th>auc score</th>\n",
       "    </tr>\n",
       "    <tr>\n",
       "      <th>model</th>\n",
       "      <th></th>\n",
       "      <th></th>\n",
       "    </tr>\n",
       "  </thead>\n",
       "  <tbody>\n",
       "    <tr>\n",
       "      <th>Logistic Regression</th>\n",
       "      <td>4.981794</td>\n",
       "      <td>0.649852</td>\n",
       "    </tr>\n",
       "    <tr>\n",
       "      <th>KNN</th>\n",
       "      <td>0.599587</td>\n",
       "      <td>0.660741</td>\n",
       "    </tr>\n",
       "    <tr>\n",
       "      <th>Decision Tree</th>\n",
       "      <td>2.914570</td>\n",
       "      <td>0.646620</td>\n",
       "    </tr>\n",
       "  </tbody>\n",
       "</table>\n",
       "</div>"
      ],
      "text/plain": [
       "                     run time  auc score\n",
       "model                                   \n",
       "Logistic Regression  4.981794   0.649852\n",
       "KNN                  0.599587   0.660741\n",
       "Decision Tree        2.914570   0.646620"
      ]
     },
     "execution_count": 96,
     "metadata": {},
     "output_type": "execute_result"
    }
   ],
   "source": [
    "grid_summary.set_index('model')"
   ]
  },
  {
   "cell_type": "code",
   "execution_count": 102,
   "metadata": {},
   "outputs": [],
   "source": [
    "lrfpr, lrtpr, lrthresholds = roc_curve(y_test, lr_grid.best_estimator_.predict_proba(X_t_test)[:,1])\n",
    "knnfpr, knntpr, knnthresholds = roc_curve(y_test, knn_grid.best_estimator_.predict_proba(X_t_test)[:,1])\n",
    "dtfpr, dttpr, dtthresholds = roc_curve(y_test, dt_grid.best_estimator_.predict(X_t_test))"
   ]
  },
  {
   "cell_type": "code",
   "execution_count": 103,
   "metadata": {},
   "outputs": [
    {
     "data": {
      "application/vnd.plotly.v1+json": {
       "config": {
        "plotlyServerURL": "https://plot.ly"
       },
       "data": [
        {
         "hovertemplate": "False Positive Rate=%{x}<br>True Positive Rate=%{y}<extra></extra>",
         "legendgroup": "",
         "line": {
          "color": "#636efa"
         },
         "marker": {
          "symbol": "circle"
         },
         "mode": "lines",
         "name": "",
         "orientation": "v",
         "showlegend": false,
         "stackgroup": "1",
         "type": "scatter",
         "x": [
          0,
          0.0001374192661811186,
          0.00041225779854335576,
          0.0005496770647244744,
          0.0008245155970867115,
          0.0009619348632678302,
          0.0009619348632678302,
          0.0010993541294489488,
          0.001374192661811186,
          0.0015116119279923045,
          0.0017864504603545418,
          0.0017864504603545418,
          0.0019238697265356603,
          0.0019238697265356603,
          0.0019238697265356603,
          0.0021987082588978977,
          0.0021987082588978977,
          0.0021987082588978977,
          0.0024735467912601347,
          0.0024735467912601347,
          0.0026109660574412533,
          0.002748385323622372,
          0.002748385323622372,
          0.0028858045898034904,
          0.003023223855984609,
          0.003023223855984609,
          0.0031606431221657275,
          0.003435481654527965,
          0.0035729009207090836,
          0.003710320186890202,
          0.003710320186890202,
          0.003985158719252439,
          0.003985158719252439,
          0.004259997251614677,
          0.004397416517795795,
          0.004672255050158032,
          0.0049470935825202695,
          0.005084512848701388,
          0.005084512848701388,
          0.005221932114882507,
          0.005359351381063625,
          0.005771609179606981,
          0.005771609179606981,
          0.005909028445788099,
          0.005909028445788099,
          0.006046447711969218,
          0.006046447711969218,
          0.0061838669781503364,
          0.0061838669781503364,
          0.0064587055105125735,
          0.006596124776693692,
          0.006596124776693692,
          0.006733544042874811,
          0.007008382575237049,
          0.007008382575237049,
          0.007283221107599286,
          0.007558059639961523,
          0.007558059639961523,
          0.007832898172323759,
          0.007832898172323759,
          0.007970317438504878,
          0.008382575237048235,
          0.00879483303559159,
          0.009069671567953828,
          0.009069671567953828,
          0.009481929366497183,
          0.009619348632678302,
          0.00975676789885942,
          0.010306444963583895,
          0.010581283495946132,
          0.010581283495946132,
          0.01071870276212725,
          0.010993541294489487,
          0.011130960560670606,
          0.011268379826851724,
          0.011543218359213962,
          0.011955476157757317,
          0.011955476157757317,
          0.012230314690119554,
          0.012505153222481791,
          0.013054830287206266,
          0.013879345884292979,
          0.014841280747560808,
          0.015390957812285283,
          0.015665796344647518,
          0.015940634877009755,
          0.016078054143190874,
          0.016490311941734233,
          0.01662773120791535,
          0.017314827538820944,
          0.017452246805002063,
          0.01758966607118318,
          0.018414181668269893,
          0.019101277999175485,
          0.019376116531537722,
          0.019788374330081078,
          0.020750309193348908,
          0.0214374055242545,
          0.022124501855160093,
          0.02239934038752233,
          0.02322385598460904,
          0.024598048646420227,
          0.025559983509688057,
          0.02624707984059365,
          0.027896111034767076,
          0.031056754156932802,
          0.03188126975401951,
          0.032980623883468466,
          0.03449223581146077,
          0.034904493610004125,
          0.03641610553799643,
          0.04081352205579222,
          0.04205029545142229,
          0.04562319637213137,
          0.050020612889927166,
          0.05276899821354954,
          0.05812834959461317,
          0.058403188126975404,
          0.05991480005496771,
          0.06307544317713343,
          0.06417479730658238,
          0.06596124776693693,
          0.06980898722000825,
          0.07132059914800055,
          0.07324446887453621,
          0.07915349732032431,
          0.08258897897485228,
          0.08808574962209702,
          0.08973478081627044,
          0.09330768173697952,
          0.09825477531949979,
          0.10210251477257111,
          0.11130960560670607,
          0.1196921808437543,
          0.12752507901607804,
          0.14057990930328432,
          0.1507489350006871,
          0.16078054143190876,
          0.1765837570427374,
          0.18798955613577023,
          0.1971966469699052,
          0.20379277174659888,
          0.2108011543218359,
          0.22110759928541981,
          0.23539920296825614,
          0.2490037103201869,
          0.2609591864779442,
          0.2707159543768036,
          0.2818469149374742,
          0.292015940634877,
          0.30259722413082313,
          0.31523979661948603,
          0.332554624158307,
          0.3472584856396867,
          0.3578397691356328,
          0.37185653428610693,
          0.38820942696166,
          0.40387522330630754,
          0.4177545691906005,
          0.4341074618661536,
          0.4448261646282809,
          0.45719389858458154,
          0.4679126013467088,
          0.48000549677064724,
          0.4966332279785626,
          0.5117493472584856,
          0.5250790160780542,
          0.537584169300536,
          0.5513260959186478,
          0.5641060876734918,
          0.5756493060327058,
          0.5870551051257387,
          0.5991480005496771,
          0.618661536347396,
          0.6299299161742477,
          0.6420228115981861,
          0.6549402226192113,
          0.6635976363886217,
          0.6748660162154734,
          0.6855847189776006,
          0.6991892263295314,
          0.711419541019651,
          0.7228253401126838,
          0.7350556548028033,
          0.7481104850900097,
          0.7585543493197746,
          0.7683111172186341,
          0.7865878796207229,
          0.7984059365122991,
          0.814621409921671,
          0.8290504328706885,
          0.8404562319637213,
          0.8568091246392744,
          0.867940085199945,
          0.8785213686958911,
          0.8897897485227428,
          0.9051807063350281,
          0.9171361824927855,
          0.9310155283770785,
          0.93981036141267,
          0.9508039027071595,
          0.9606980898722001,
          0.9721038889652329,
          0.9795245293390134,
          0.9863954926480692,
          0.9906554898996839,
          0.9946406486189364,
          0.9973890339425587,
          0.9986258073381888,
          0.9994503229352755,
          0.9997251614676378,
          1
         ],
         "xaxis": "x",
         "y": [
          0,
          0,
          0,
          0,
          0,
          0,
          0.002081165452653486,
          0.002081165452653486,
          0.004162330905306972,
          0.004162330905306972,
          0.004162330905306972,
          0.007284079084287201,
          0.007284079084287201,
          0.009365244536940686,
          0.01040582726326743,
          0.012486992715920915,
          0.015608740894901144,
          0.01664932362122789,
          0.018730489073881373,
          0.019771071800208116,
          0.019771071800208116,
          0.021852237252861603,
          0.026014568158168574,
          0.026014568158168574,
          0.027055150884495317,
          0.02809573361082206,
          0.02809573361082206,
          0.02809573361082206,
          0.029136316337148804,
          0.029136316337148804,
          0.030176899063475548,
          0.031217481789802288,
          0.03225806451612903,
          0.03329864724245578,
          0.03433922996878252,
          0.03537981269510926,
          0.03537981269510926,
          0.036420395421436005,
          0.037460978147762745,
          0.03954214360041623,
          0.04058272632674298,
          0.04266389177939646,
          0.043704474505723206,
          0.043704474505723206,
          0.045785639958376693,
          0.046826222684703434,
          0.047866805411030174,
          0.047866805411030174,
          0.04890738813735692,
          0.05098855359001041,
          0.05202913631633715,
          0.053069719042663895,
          0.053069719042663895,
          0.055150884495317375,
          0.05619146722164412,
          0.05619146722164412,
          0.05827263267429761,
          0.05931321540062435,
          0.060353798126951096,
          0.062434963579604576,
          0.06451612903225806,
          0.06763787721123829,
          0.07180020811654526,
          0.07180020811654526,
          0.07284079084287201,
          0.07284079084287201,
          0.07284079084287201,
          0.07388137356919876,
          0.07700312174817898,
          0.07700312174817898,
          0.07804370447450572,
          0.08116545265348596,
          0.08116545265348596,
          0.08116545265348596,
          0.08220603537981269,
          0.08220603537981269,
          0.08220603537981269,
          0.08324661810613944,
          0.08428720083246619,
          0.08428720083246619,
          0.08740894901144641,
          0.09053069719042664,
          0.09989594172736732,
          0.10093652445369407,
          0.10093652445369407,
          0.10197710718002082,
          0.1040582726326743,
          0.10822060353798127,
          0.10926118626430802,
          0.11342351716961499,
          0.11550468262226847,
          0.11654526534859522,
          0.12070759625390219,
          0.12070759625390219,
          0.12174817898022892,
          0.12382934443288242,
          0.12382934443288242,
          0.12486992715920915,
          0.12695109261186263,
          0.1279916753381894,
          0.13215400624349635,
          0.1331945889698231,
          0.13631633714880334,
          0.13631633714880334,
          0.1383975026014568,
          0.14151925078043703,
          0.1425598335067638,
          0.14672216441207075,
          0.15088449531737774,
          0.15088449531737774,
          0.15192507804370448,
          0.15816857440166493,
          0.16129032258064516,
          0.1696149843912591,
          0.17377731529656607,
          0.18002081165452655,
          0.18522372528616024,
          0.18834547346514047,
          0.19250780437044746,
          0.19979188345473464,
          0.2008324661810614,
          0.20291363163371487,
          0.21019771071800208,
          0.21019771071800208,
          0.2133194588969823,
          0.222684703433923,
          0.22892819979188345,
          0.23829344432882413,
          0.24245577523413112,
          0.24765868886576484,
          0.2497398543184183,
          0.25390218522372526,
          0.2726326742976067,
          0.28720083246618106,
          0.29864724245577523,
          0.3152965660770031,
          0.3350676378772112,
          0.34547346514047866,
          0.36628511966701355,
          0.3870967741935484,
          0.39542143600416235,
          0.4016649323621228,
          0.40582726326742974,
          0.4214360041623309,
          0.4432882414151925,
          0.45265348595213317,
          0.4630593132154006,
          0.47658688865764826,
          0.48491155046826223,
          0.49739854318418314,
          0.5046826222684704,
          0.5254942767950052,
          0.5442247658688866,
          0.5525494276795005,
          0.562955254942768,
          0.5858480749219563,
          0.6077003121748179,
          0.6212278876170656,
          0.6305931321540063,
          0.6472424557752341,
          0.6586888657648283,
          0.6774193548387096,
          0.6940686784599376,
          0.7013527575442248,
          0.7180020811654526,
          0.7252861602497399,
          0.7336108220603538,
          0.7429760665972945,
          0.7513007284079084,
          0.7669094693028096,
          0.7752341311134235,
          0.7845993756503642,
          0.7970863683662851,
          0.809573361082206,
          0.8147762747138397,
          0.8210197710718002,
          0.8314255983350677,
          0.8366285119667014,
          0.8407908428720083,
          0.8491155046826223,
          0.858480749219563,
          0.8657648283038502,
          0.8709677419354839,
          0.8834547346514048,
          0.8886576482830385,
          0.8928199791883454,
          0.894901144640999,
          0.9032258064516129,
          0.9053069719042663,
          0.9198751300728408,
          0.927159209157128,
          0.9334027055150884,
          0.9406867845993756,
          0.9458896982310093,
          0.9500520291363164,
          0.9552549427679501,
          0.963579604578564,
          0.967741935483871,
          0.9750260145681582,
          0.9791883454734651,
          0.9833506763787722,
          0.9895941727367326,
          0.9906347554630593,
          0.9937565036420395,
          0.9968782518210197,
          0.9979188345473465,
          0.9979188345473465,
          1,
          1,
          1,
          1,
          1
         ],
         "yaxis": "y"
        }
       ],
       "layout": {
        "height": 500,
        "legend": {
         "tracegroupgap": 0
        },
        "shapes": [
         {
          "line": {
           "dash": "dash"
          },
          "type": "line",
          "x0": 0,
          "x1": 1,
          "y0": 0,
          "y1": 1
         }
        ],
        "template": {
         "data": {
          "bar": [
           {
            "error_x": {
             "color": "#2a3f5f"
            },
            "error_y": {
             "color": "#2a3f5f"
            },
            "marker": {
             "line": {
              "color": "#E5ECF6",
              "width": 0.5
             },
             "pattern": {
              "fillmode": "overlay",
              "size": 10,
              "solidity": 0.2
             }
            },
            "type": "bar"
           }
          ],
          "barpolar": [
           {
            "marker": {
             "line": {
              "color": "#E5ECF6",
              "width": 0.5
             },
             "pattern": {
              "fillmode": "overlay",
              "size": 10,
              "solidity": 0.2
             }
            },
            "type": "barpolar"
           }
          ],
          "carpet": [
           {
            "aaxis": {
             "endlinecolor": "#2a3f5f",
             "gridcolor": "white",
             "linecolor": "white",
             "minorgridcolor": "white",
             "startlinecolor": "#2a3f5f"
            },
            "baxis": {
             "endlinecolor": "#2a3f5f",
             "gridcolor": "white",
             "linecolor": "white",
             "minorgridcolor": "white",
             "startlinecolor": "#2a3f5f"
            },
            "type": "carpet"
           }
          ],
          "choropleth": [
           {
            "colorbar": {
             "outlinewidth": 0,
             "ticks": ""
            },
            "type": "choropleth"
           }
          ],
          "contour": [
           {
            "colorbar": {
             "outlinewidth": 0,
             "ticks": ""
            },
            "colorscale": [
             [
              0,
              "#0d0887"
             ],
             [
              0.1111111111111111,
              "#46039f"
             ],
             [
              0.2222222222222222,
              "#7201a8"
             ],
             [
              0.3333333333333333,
              "#9c179e"
             ],
             [
              0.4444444444444444,
              "#bd3786"
             ],
             [
              0.5555555555555556,
              "#d8576b"
             ],
             [
              0.6666666666666666,
              "#ed7953"
             ],
             [
              0.7777777777777778,
              "#fb9f3a"
             ],
             [
              0.8888888888888888,
              "#fdca26"
             ],
             [
              1,
              "#f0f921"
             ]
            ],
            "type": "contour"
           }
          ],
          "contourcarpet": [
           {
            "colorbar": {
             "outlinewidth": 0,
             "ticks": ""
            },
            "type": "contourcarpet"
           }
          ],
          "heatmap": [
           {
            "colorbar": {
             "outlinewidth": 0,
             "ticks": ""
            },
            "colorscale": [
             [
              0,
              "#0d0887"
             ],
             [
              0.1111111111111111,
              "#46039f"
             ],
             [
              0.2222222222222222,
              "#7201a8"
             ],
             [
              0.3333333333333333,
              "#9c179e"
             ],
             [
              0.4444444444444444,
              "#bd3786"
             ],
             [
              0.5555555555555556,
              "#d8576b"
             ],
             [
              0.6666666666666666,
              "#ed7953"
             ],
             [
              0.7777777777777778,
              "#fb9f3a"
             ],
             [
              0.8888888888888888,
              "#fdca26"
             ],
             [
              1,
              "#f0f921"
             ]
            ],
            "type": "heatmap"
           }
          ],
          "heatmapgl": [
           {
            "colorbar": {
             "outlinewidth": 0,
             "ticks": ""
            },
            "colorscale": [
             [
              0,
              "#0d0887"
             ],
             [
              0.1111111111111111,
              "#46039f"
             ],
             [
              0.2222222222222222,
              "#7201a8"
             ],
             [
              0.3333333333333333,
              "#9c179e"
             ],
             [
              0.4444444444444444,
              "#bd3786"
             ],
             [
              0.5555555555555556,
              "#d8576b"
             ],
             [
              0.6666666666666666,
              "#ed7953"
             ],
             [
              0.7777777777777778,
              "#fb9f3a"
             ],
             [
              0.8888888888888888,
              "#fdca26"
             ],
             [
              1,
              "#f0f921"
             ]
            ],
            "type": "heatmapgl"
           }
          ],
          "histogram": [
           {
            "marker": {
             "pattern": {
              "fillmode": "overlay",
              "size": 10,
              "solidity": 0.2
             }
            },
            "type": "histogram"
           }
          ],
          "histogram2d": [
           {
            "colorbar": {
             "outlinewidth": 0,
             "ticks": ""
            },
            "colorscale": [
             [
              0,
              "#0d0887"
             ],
             [
              0.1111111111111111,
              "#46039f"
             ],
             [
              0.2222222222222222,
              "#7201a8"
             ],
             [
              0.3333333333333333,
              "#9c179e"
             ],
             [
              0.4444444444444444,
              "#bd3786"
             ],
             [
              0.5555555555555556,
              "#d8576b"
             ],
             [
              0.6666666666666666,
              "#ed7953"
             ],
             [
              0.7777777777777778,
              "#fb9f3a"
             ],
             [
              0.8888888888888888,
              "#fdca26"
             ],
             [
              1,
              "#f0f921"
             ]
            ],
            "type": "histogram2d"
           }
          ],
          "histogram2dcontour": [
           {
            "colorbar": {
             "outlinewidth": 0,
             "ticks": ""
            },
            "colorscale": [
             [
              0,
              "#0d0887"
             ],
             [
              0.1111111111111111,
              "#46039f"
             ],
             [
              0.2222222222222222,
              "#7201a8"
             ],
             [
              0.3333333333333333,
              "#9c179e"
             ],
             [
              0.4444444444444444,
              "#bd3786"
             ],
             [
              0.5555555555555556,
              "#d8576b"
             ],
             [
              0.6666666666666666,
              "#ed7953"
             ],
             [
              0.7777777777777778,
              "#fb9f3a"
             ],
             [
              0.8888888888888888,
              "#fdca26"
             ],
             [
              1,
              "#f0f921"
             ]
            ],
            "type": "histogram2dcontour"
           }
          ],
          "mesh3d": [
           {
            "colorbar": {
             "outlinewidth": 0,
             "ticks": ""
            },
            "type": "mesh3d"
           }
          ],
          "parcoords": [
           {
            "line": {
             "colorbar": {
              "outlinewidth": 0,
              "ticks": ""
             }
            },
            "type": "parcoords"
           }
          ],
          "pie": [
           {
            "automargin": true,
            "type": "pie"
           }
          ],
          "scatter": [
           {
            "marker": {
             "colorbar": {
              "outlinewidth": 0,
              "ticks": ""
             }
            },
            "type": "scatter"
           }
          ],
          "scatter3d": [
           {
            "line": {
             "colorbar": {
              "outlinewidth": 0,
              "ticks": ""
             }
            },
            "marker": {
             "colorbar": {
              "outlinewidth": 0,
              "ticks": ""
             }
            },
            "type": "scatter3d"
           }
          ],
          "scattercarpet": [
           {
            "marker": {
             "colorbar": {
              "outlinewidth": 0,
              "ticks": ""
             }
            },
            "type": "scattercarpet"
           }
          ],
          "scattergeo": [
           {
            "marker": {
             "colorbar": {
              "outlinewidth": 0,
              "ticks": ""
             }
            },
            "type": "scattergeo"
           }
          ],
          "scattergl": [
           {
            "marker": {
             "colorbar": {
              "outlinewidth": 0,
              "ticks": ""
             }
            },
            "type": "scattergl"
           }
          ],
          "scattermapbox": [
           {
            "marker": {
             "colorbar": {
              "outlinewidth": 0,
              "ticks": ""
             }
            },
            "type": "scattermapbox"
           }
          ],
          "scatterpolar": [
           {
            "marker": {
             "colorbar": {
              "outlinewidth": 0,
              "ticks": ""
             }
            },
            "type": "scatterpolar"
           }
          ],
          "scatterpolargl": [
           {
            "marker": {
             "colorbar": {
              "outlinewidth": 0,
              "ticks": ""
             }
            },
            "type": "scatterpolargl"
           }
          ],
          "scatterternary": [
           {
            "marker": {
             "colorbar": {
              "outlinewidth": 0,
              "ticks": ""
             }
            },
            "type": "scatterternary"
           }
          ],
          "surface": [
           {
            "colorbar": {
             "outlinewidth": 0,
             "ticks": ""
            },
            "colorscale": [
             [
              0,
              "#0d0887"
             ],
             [
              0.1111111111111111,
              "#46039f"
             ],
             [
              0.2222222222222222,
              "#7201a8"
             ],
             [
              0.3333333333333333,
              "#9c179e"
             ],
             [
              0.4444444444444444,
              "#bd3786"
             ],
             [
              0.5555555555555556,
              "#d8576b"
             ],
             [
              0.6666666666666666,
              "#ed7953"
             ],
             [
              0.7777777777777778,
              "#fb9f3a"
             ],
             [
              0.8888888888888888,
              "#fdca26"
             ],
             [
              1,
              "#f0f921"
             ]
            ],
            "type": "surface"
           }
          ],
          "table": [
           {
            "cells": {
             "fill": {
              "color": "#EBF0F8"
             },
             "line": {
              "color": "white"
             }
            },
            "header": {
             "fill": {
              "color": "#C8D4E3"
             },
             "line": {
              "color": "white"
             }
            },
            "type": "table"
           }
          ]
         },
         "layout": {
          "annotationdefaults": {
           "arrowcolor": "#2a3f5f",
           "arrowhead": 0,
           "arrowwidth": 1
          },
          "autotypenumbers": "strict",
          "coloraxis": {
           "colorbar": {
            "outlinewidth": 0,
            "ticks": ""
           }
          },
          "colorscale": {
           "diverging": [
            [
             0,
             "#8e0152"
            ],
            [
             0.1,
             "#c51b7d"
            ],
            [
             0.2,
             "#de77ae"
            ],
            [
             0.3,
             "#f1b6da"
            ],
            [
             0.4,
             "#fde0ef"
            ],
            [
             0.5,
             "#f7f7f7"
            ],
            [
             0.6,
             "#e6f5d0"
            ],
            [
             0.7,
             "#b8e186"
            ],
            [
             0.8,
             "#7fbc41"
            ],
            [
             0.9,
             "#4d9221"
            ],
            [
             1,
             "#276419"
            ]
           ],
           "sequential": [
            [
             0,
             "#0d0887"
            ],
            [
             0.1111111111111111,
             "#46039f"
            ],
            [
             0.2222222222222222,
             "#7201a8"
            ],
            [
             0.3333333333333333,
             "#9c179e"
            ],
            [
             0.4444444444444444,
             "#bd3786"
            ],
            [
             0.5555555555555556,
             "#d8576b"
            ],
            [
             0.6666666666666666,
             "#ed7953"
            ],
            [
             0.7777777777777778,
             "#fb9f3a"
            ],
            [
             0.8888888888888888,
             "#fdca26"
            ],
            [
             1,
             "#f0f921"
            ]
           ],
           "sequentialminus": [
            [
             0,
             "#0d0887"
            ],
            [
             0.1111111111111111,
             "#46039f"
            ],
            [
             0.2222222222222222,
             "#7201a8"
            ],
            [
             0.3333333333333333,
             "#9c179e"
            ],
            [
             0.4444444444444444,
             "#bd3786"
            ],
            [
             0.5555555555555556,
             "#d8576b"
            ],
            [
             0.6666666666666666,
             "#ed7953"
            ],
            [
             0.7777777777777778,
             "#fb9f3a"
            ],
            [
             0.8888888888888888,
             "#fdca26"
            ],
            [
             1,
             "#f0f921"
            ]
           ]
          },
          "colorway": [
           "#636efa",
           "#EF553B",
           "#00cc96",
           "#ab63fa",
           "#FFA15A",
           "#19d3f3",
           "#FF6692",
           "#B6E880",
           "#FF97FF",
           "#FECB52"
          ],
          "font": {
           "color": "#2a3f5f"
          },
          "geo": {
           "bgcolor": "white",
           "lakecolor": "white",
           "landcolor": "#E5ECF6",
           "showlakes": true,
           "showland": true,
           "subunitcolor": "white"
          },
          "hoverlabel": {
           "align": "left"
          },
          "hovermode": "closest",
          "mapbox": {
           "style": "light"
          },
          "paper_bgcolor": "white",
          "plot_bgcolor": "#E5ECF6",
          "polar": {
           "angularaxis": {
            "gridcolor": "white",
            "linecolor": "white",
            "ticks": ""
           },
           "bgcolor": "#E5ECF6",
           "radialaxis": {
            "gridcolor": "white",
            "linecolor": "white",
            "ticks": ""
           }
          },
          "scene": {
           "xaxis": {
            "backgroundcolor": "#E5ECF6",
            "gridcolor": "white",
            "gridwidth": 2,
            "linecolor": "white",
            "showbackground": true,
            "ticks": "",
            "zerolinecolor": "white"
           },
           "yaxis": {
            "backgroundcolor": "#E5ECF6",
            "gridcolor": "white",
            "gridwidth": 2,
            "linecolor": "white",
            "showbackground": true,
            "ticks": "",
            "zerolinecolor": "white"
           },
           "zaxis": {
            "backgroundcolor": "#E5ECF6",
            "gridcolor": "white",
            "gridwidth": 2,
            "linecolor": "white",
            "showbackground": true,
            "ticks": "",
            "zerolinecolor": "white"
           }
          },
          "shapedefaults": {
           "line": {
            "color": "#2a3f5f"
           }
          },
          "ternary": {
           "aaxis": {
            "gridcolor": "white",
            "linecolor": "white",
            "ticks": ""
           },
           "baxis": {
            "gridcolor": "white",
            "linecolor": "white",
            "ticks": ""
           },
           "bgcolor": "#E5ECF6",
           "caxis": {
            "gridcolor": "white",
            "linecolor": "white",
            "ticks": ""
           }
          },
          "title": {
           "x": 0.05
          },
          "xaxis": {
           "automargin": true,
           "gridcolor": "white",
           "linecolor": "white",
           "ticks": "",
           "title": {
            "standoff": 15
           },
           "zerolinecolor": "white",
           "zerolinewidth": 2
          },
          "yaxis": {
           "automargin": true,
           "gridcolor": "white",
           "linecolor": "white",
           "ticks": "",
           "title": {
            "standoff": 15
           },
           "zerolinecolor": "white",
           "zerolinewidth": 2
          }
         }
        },
        "title": {
         "text": "ROC Curve for KNN (best AUC) classifier"
        },
        "width": 700,
        "xaxis": {
         "anchor": "y",
         "constrain": "domain",
         "domain": [
          0,
          1
         ],
         "title": {
          "text": "False Positive Rate"
         }
        },
        "yaxis": {
         "anchor": "x",
         "domain": [
          0,
          1
         ],
         "scaleanchor": "x",
         "scaleratio": 1,
         "title": {
          "text": "True Positive Rate"
         }
        }
       }
      },
      "text/html": [
       "<div>                            <div id=\"a5d45856-75f4-4f70-99a5-4d43d851cbfb\" class=\"plotly-graph-div\" style=\"height:500px; width:700px;\"></div>            <script type=\"text/javascript\">                require([\"plotly\"], function(Plotly) {                    window.PLOTLYENV=window.PLOTLYENV || {};                                    if (document.getElementById(\"a5d45856-75f4-4f70-99a5-4d43d851cbfb\")) {                    Plotly.newPlot(                        \"a5d45856-75f4-4f70-99a5-4d43d851cbfb\",                        [{\"hovertemplate\":\"False Positive Rate=%{x}<br>True Positive Rate=%{y}<extra></extra>\",\"legendgroup\":\"\",\"line\":{\"color\":\"#636efa\"},\"marker\":{\"symbol\":\"circle\"},\"mode\":\"lines\",\"name\":\"\",\"orientation\":\"v\",\"showlegend\":false,\"stackgroup\":\"1\",\"x\":[0.0,0.0001374192661811186,0.00041225779854335576,0.0005496770647244744,0.0008245155970867115,0.0009619348632678302,0.0009619348632678302,0.0010993541294489488,0.001374192661811186,0.0015116119279923045,0.0017864504603545418,0.0017864504603545418,0.0019238697265356603,0.0019238697265356603,0.0019238697265356603,0.0021987082588978977,0.0021987082588978977,0.0021987082588978977,0.0024735467912601347,0.0024735467912601347,0.0026109660574412533,0.002748385323622372,0.002748385323622372,0.0028858045898034904,0.003023223855984609,0.003023223855984609,0.0031606431221657275,0.003435481654527965,0.0035729009207090836,0.003710320186890202,0.003710320186890202,0.003985158719252439,0.003985158719252439,0.004259997251614677,0.004397416517795795,0.004672255050158032,0.0049470935825202695,0.005084512848701388,0.005084512848701388,0.005221932114882507,0.005359351381063625,0.005771609179606981,0.005771609179606981,0.005909028445788099,0.005909028445788099,0.006046447711969218,0.006046447711969218,0.0061838669781503364,0.0061838669781503364,0.0064587055105125735,0.006596124776693692,0.006596124776693692,0.006733544042874811,0.007008382575237049,0.007008382575237049,0.007283221107599286,0.007558059639961523,0.007558059639961523,0.007832898172323759,0.007832898172323759,0.007970317438504878,0.008382575237048235,0.00879483303559159,0.009069671567953828,0.009069671567953828,0.009481929366497183,0.009619348632678302,0.00975676789885942,0.010306444963583895,0.010581283495946132,0.010581283495946132,0.01071870276212725,0.010993541294489487,0.011130960560670606,0.011268379826851724,0.011543218359213962,0.011955476157757317,0.011955476157757317,0.012230314690119554,0.012505153222481791,0.013054830287206266,0.013879345884292979,0.014841280747560808,0.015390957812285283,0.015665796344647518,0.015940634877009755,0.016078054143190874,0.016490311941734233,0.01662773120791535,0.017314827538820944,0.017452246805002063,0.01758966607118318,0.018414181668269893,0.019101277999175485,0.019376116531537722,0.019788374330081078,0.020750309193348908,0.0214374055242545,0.022124501855160093,0.02239934038752233,0.02322385598460904,0.024598048646420227,0.025559983509688057,0.02624707984059365,0.027896111034767076,0.031056754156932802,0.03188126975401951,0.032980623883468466,0.03449223581146077,0.034904493610004125,0.03641610553799643,0.04081352205579222,0.04205029545142229,0.04562319637213137,0.050020612889927166,0.05276899821354954,0.05812834959461317,0.058403188126975404,0.05991480005496771,0.06307544317713343,0.06417479730658238,0.06596124776693693,0.06980898722000825,0.07132059914800055,0.07324446887453621,0.07915349732032431,0.08258897897485228,0.08808574962209702,0.08973478081627044,0.09330768173697952,0.09825477531949979,0.10210251477257111,0.11130960560670607,0.1196921808437543,0.12752507901607804,0.14057990930328432,0.1507489350006871,0.16078054143190876,0.1765837570427374,0.18798955613577023,0.1971966469699052,0.20379277174659888,0.2108011543218359,0.22110759928541981,0.23539920296825614,0.2490037103201869,0.2609591864779442,0.2707159543768036,0.2818469149374742,0.292015940634877,0.30259722413082313,0.31523979661948603,0.332554624158307,0.3472584856396867,0.3578397691356328,0.37185653428610693,0.38820942696166,0.40387522330630754,0.4177545691906005,0.4341074618661536,0.4448261646282809,0.45719389858458154,0.4679126013467088,0.48000549677064724,0.4966332279785626,0.5117493472584856,0.5250790160780542,0.537584169300536,0.5513260959186478,0.5641060876734918,0.5756493060327058,0.5870551051257387,0.5991480005496771,0.618661536347396,0.6299299161742477,0.6420228115981861,0.6549402226192113,0.6635976363886217,0.6748660162154734,0.6855847189776006,0.6991892263295314,0.711419541019651,0.7228253401126838,0.7350556548028033,0.7481104850900097,0.7585543493197746,0.7683111172186341,0.7865878796207229,0.7984059365122991,0.814621409921671,0.8290504328706885,0.8404562319637213,0.8568091246392744,0.867940085199945,0.8785213686958911,0.8897897485227428,0.9051807063350281,0.9171361824927855,0.9310155283770785,0.93981036141267,0.9508039027071595,0.9606980898722001,0.9721038889652329,0.9795245293390134,0.9863954926480692,0.9906554898996839,0.9946406486189364,0.9973890339425587,0.9986258073381888,0.9994503229352755,0.9997251614676378,1.0],\"xaxis\":\"x\",\"y\":[0.0,0.0,0.0,0.0,0.0,0.0,0.002081165452653486,0.002081165452653486,0.004162330905306972,0.004162330905306972,0.004162330905306972,0.007284079084287201,0.007284079084287201,0.009365244536940686,0.01040582726326743,0.012486992715920915,0.015608740894901144,0.01664932362122789,0.018730489073881373,0.019771071800208116,0.019771071800208116,0.021852237252861603,0.026014568158168574,0.026014568158168574,0.027055150884495317,0.02809573361082206,0.02809573361082206,0.02809573361082206,0.029136316337148804,0.029136316337148804,0.030176899063475548,0.031217481789802288,0.03225806451612903,0.03329864724245578,0.03433922996878252,0.03537981269510926,0.03537981269510926,0.036420395421436005,0.037460978147762745,0.03954214360041623,0.04058272632674298,0.04266389177939646,0.043704474505723206,0.043704474505723206,0.045785639958376693,0.046826222684703434,0.047866805411030174,0.047866805411030174,0.04890738813735692,0.05098855359001041,0.05202913631633715,0.053069719042663895,0.053069719042663895,0.055150884495317375,0.05619146722164412,0.05619146722164412,0.05827263267429761,0.05931321540062435,0.060353798126951096,0.062434963579604576,0.06451612903225806,0.06763787721123829,0.07180020811654526,0.07180020811654526,0.07284079084287201,0.07284079084287201,0.07284079084287201,0.07388137356919876,0.07700312174817898,0.07700312174817898,0.07804370447450572,0.08116545265348596,0.08116545265348596,0.08116545265348596,0.08220603537981269,0.08220603537981269,0.08220603537981269,0.08324661810613944,0.08428720083246619,0.08428720083246619,0.08740894901144641,0.09053069719042664,0.09989594172736732,0.10093652445369407,0.10093652445369407,0.10197710718002082,0.1040582726326743,0.10822060353798127,0.10926118626430802,0.11342351716961499,0.11550468262226847,0.11654526534859522,0.12070759625390219,0.12070759625390219,0.12174817898022892,0.12382934443288242,0.12382934443288242,0.12486992715920915,0.12695109261186263,0.1279916753381894,0.13215400624349635,0.1331945889698231,0.13631633714880334,0.13631633714880334,0.1383975026014568,0.14151925078043703,0.1425598335067638,0.14672216441207075,0.15088449531737774,0.15088449531737774,0.15192507804370448,0.15816857440166493,0.16129032258064516,0.1696149843912591,0.17377731529656607,0.18002081165452655,0.18522372528616024,0.18834547346514047,0.19250780437044746,0.19979188345473464,0.2008324661810614,0.20291363163371487,0.21019771071800208,0.21019771071800208,0.2133194588969823,0.222684703433923,0.22892819979188345,0.23829344432882413,0.24245577523413112,0.24765868886576484,0.2497398543184183,0.25390218522372526,0.2726326742976067,0.28720083246618106,0.29864724245577523,0.3152965660770031,0.3350676378772112,0.34547346514047866,0.36628511966701355,0.3870967741935484,0.39542143600416235,0.4016649323621228,0.40582726326742974,0.4214360041623309,0.4432882414151925,0.45265348595213317,0.4630593132154006,0.47658688865764826,0.48491155046826223,0.49739854318418314,0.5046826222684704,0.5254942767950052,0.5442247658688866,0.5525494276795005,0.562955254942768,0.5858480749219563,0.6077003121748179,0.6212278876170656,0.6305931321540063,0.6472424557752341,0.6586888657648283,0.6774193548387096,0.6940686784599376,0.7013527575442248,0.7180020811654526,0.7252861602497399,0.7336108220603538,0.7429760665972945,0.7513007284079084,0.7669094693028096,0.7752341311134235,0.7845993756503642,0.7970863683662851,0.809573361082206,0.8147762747138397,0.8210197710718002,0.8314255983350677,0.8366285119667014,0.8407908428720083,0.8491155046826223,0.858480749219563,0.8657648283038502,0.8709677419354839,0.8834547346514048,0.8886576482830385,0.8928199791883454,0.894901144640999,0.9032258064516129,0.9053069719042663,0.9198751300728408,0.927159209157128,0.9334027055150884,0.9406867845993756,0.9458896982310093,0.9500520291363164,0.9552549427679501,0.963579604578564,0.967741935483871,0.9750260145681582,0.9791883454734651,0.9833506763787722,0.9895941727367326,0.9906347554630593,0.9937565036420395,0.9968782518210197,0.9979188345473465,0.9979188345473465,1.0,1.0,1.0,1.0,1.0],\"yaxis\":\"y\",\"type\":\"scatter\"}],                        {\"template\":{\"data\":{\"bar\":[{\"error_x\":{\"color\":\"#2a3f5f\"},\"error_y\":{\"color\":\"#2a3f5f\"},\"marker\":{\"line\":{\"color\":\"#E5ECF6\",\"width\":0.5},\"pattern\":{\"fillmode\":\"overlay\",\"size\":10,\"solidity\":0.2}},\"type\":\"bar\"}],\"barpolar\":[{\"marker\":{\"line\":{\"color\":\"#E5ECF6\",\"width\":0.5},\"pattern\":{\"fillmode\":\"overlay\",\"size\":10,\"solidity\":0.2}},\"type\":\"barpolar\"}],\"carpet\":[{\"aaxis\":{\"endlinecolor\":\"#2a3f5f\",\"gridcolor\":\"white\",\"linecolor\":\"white\",\"minorgridcolor\":\"white\",\"startlinecolor\":\"#2a3f5f\"},\"baxis\":{\"endlinecolor\":\"#2a3f5f\",\"gridcolor\":\"white\",\"linecolor\":\"white\",\"minorgridcolor\":\"white\",\"startlinecolor\":\"#2a3f5f\"},\"type\":\"carpet\"}],\"choropleth\":[{\"colorbar\":{\"outlinewidth\":0,\"ticks\":\"\"},\"type\":\"choropleth\"}],\"contour\":[{\"colorbar\":{\"outlinewidth\":0,\"ticks\":\"\"},\"colorscale\":[[0.0,\"#0d0887\"],[0.1111111111111111,\"#46039f\"],[0.2222222222222222,\"#7201a8\"],[0.3333333333333333,\"#9c179e\"],[0.4444444444444444,\"#bd3786\"],[0.5555555555555556,\"#d8576b\"],[0.6666666666666666,\"#ed7953\"],[0.7777777777777778,\"#fb9f3a\"],[0.8888888888888888,\"#fdca26\"],[1.0,\"#f0f921\"]],\"type\":\"contour\"}],\"contourcarpet\":[{\"colorbar\":{\"outlinewidth\":0,\"ticks\":\"\"},\"type\":\"contourcarpet\"}],\"heatmap\":[{\"colorbar\":{\"outlinewidth\":0,\"ticks\":\"\"},\"colorscale\":[[0.0,\"#0d0887\"],[0.1111111111111111,\"#46039f\"],[0.2222222222222222,\"#7201a8\"],[0.3333333333333333,\"#9c179e\"],[0.4444444444444444,\"#bd3786\"],[0.5555555555555556,\"#d8576b\"],[0.6666666666666666,\"#ed7953\"],[0.7777777777777778,\"#fb9f3a\"],[0.8888888888888888,\"#fdca26\"],[1.0,\"#f0f921\"]],\"type\":\"heatmap\"}],\"heatmapgl\":[{\"colorbar\":{\"outlinewidth\":0,\"ticks\":\"\"},\"colorscale\":[[0.0,\"#0d0887\"],[0.1111111111111111,\"#46039f\"],[0.2222222222222222,\"#7201a8\"],[0.3333333333333333,\"#9c179e\"],[0.4444444444444444,\"#bd3786\"],[0.5555555555555556,\"#d8576b\"],[0.6666666666666666,\"#ed7953\"],[0.7777777777777778,\"#fb9f3a\"],[0.8888888888888888,\"#fdca26\"],[1.0,\"#f0f921\"]],\"type\":\"heatmapgl\"}],\"histogram\":[{\"marker\":{\"pattern\":{\"fillmode\":\"overlay\",\"size\":10,\"solidity\":0.2}},\"type\":\"histogram\"}],\"histogram2d\":[{\"colorbar\":{\"outlinewidth\":0,\"ticks\":\"\"},\"colorscale\":[[0.0,\"#0d0887\"],[0.1111111111111111,\"#46039f\"],[0.2222222222222222,\"#7201a8\"],[0.3333333333333333,\"#9c179e\"],[0.4444444444444444,\"#bd3786\"],[0.5555555555555556,\"#d8576b\"],[0.6666666666666666,\"#ed7953\"],[0.7777777777777778,\"#fb9f3a\"],[0.8888888888888888,\"#fdca26\"],[1.0,\"#f0f921\"]],\"type\":\"histogram2d\"}],\"histogram2dcontour\":[{\"colorbar\":{\"outlinewidth\":0,\"ticks\":\"\"},\"colorscale\":[[0.0,\"#0d0887\"],[0.1111111111111111,\"#46039f\"],[0.2222222222222222,\"#7201a8\"],[0.3333333333333333,\"#9c179e\"],[0.4444444444444444,\"#bd3786\"],[0.5555555555555556,\"#d8576b\"],[0.6666666666666666,\"#ed7953\"],[0.7777777777777778,\"#fb9f3a\"],[0.8888888888888888,\"#fdca26\"],[1.0,\"#f0f921\"]],\"type\":\"histogram2dcontour\"}],\"mesh3d\":[{\"colorbar\":{\"outlinewidth\":0,\"ticks\":\"\"},\"type\":\"mesh3d\"}],\"parcoords\":[{\"line\":{\"colorbar\":{\"outlinewidth\":0,\"ticks\":\"\"}},\"type\":\"parcoords\"}],\"pie\":[{\"automargin\":true,\"type\":\"pie\"}],\"scatter\":[{\"marker\":{\"colorbar\":{\"outlinewidth\":0,\"ticks\":\"\"}},\"type\":\"scatter\"}],\"scatter3d\":[{\"line\":{\"colorbar\":{\"outlinewidth\":0,\"ticks\":\"\"}},\"marker\":{\"colorbar\":{\"outlinewidth\":0,\"ticks\":\"\"}},\"type\":\"scatter3d\"}],\"scattercarpet\":[{\"marker\":{\"colorbar\":{\"outlinewidth\":0,\"ticks\":\"\"}},\"type\":\"scattercarpet\"}],\"scattergeo\":[{\"marker\":{\"colorbar\":{\"outlinewidth\":0,\"ticks\":\"\"}},\"type\":\"scattergeo\"}],\"scattergl\":[{\"marker\":{\"colorbar\":{\"outlinewidth\":0,\"ticks\":\"\"}},\"type\":\"scattergl\"}],\"scattermapbox\":[{\"marker\":{\"colorbar\":{\"outlinewidth\":0,\"ticks\":\"\"}},\"type\":\"scattermapbox\"}],\"scatterpolar\":[{\"marker\":{\"colorbar\":{\"outlinewidth\":0,\"ticks\":\"\"}},\"type\":\"scatterpolar\"}],\"scatterpolargl\":[{\"marker\":{\"colorbar\":{\"outlinewidth\":0,\"ticks\":\"\"}},\"type\":\"scatterpolargl\"}],\"scatterternary\":[{\"marker\":{\"colorbar\":{\"outlinewidth\":0,\"ticks\":\"\"}},\"type\":\"scatterternary\"}],\"surface\":[{\"colorbar\":{\"outlinewidth\":0,\"ticks\":\"\"},\"colorscale\":[[0.0,\"#0d0887\"],[0.1111111111111111,\"#46039f\"],[0.2222222222222222,\"#7201a8\"],[0.3333333333333333,\"#9c179e\"],[0.4444444444444444,\"#bd3786\"],[0.5555555555555556,\"#d8576b\"],[0.6666666666666666,\"#ed7953\"],[0.7777777777777778,\"#fb9f3a\"],[0.8888888888888888,\"#fdca26\"],[1.0,\"#f0f921\"]],\"type\":\"surface\"}],\"table\":[{\"cells\":{\"fill\":{\"color\":\"#EBF0F8\"},\"line\":{\"color\":\"white\"}},\"header\":{\"fill\":{\"color\":\"#C8D4E3\"},\"line\":{\"color\":\"white\"}},\"type\":\"table\"}]},\"layout\":{\"annotationdefaults\":{\"arrowcolor\":\"#2a3f5f\",\"arrowhead\":0,\"arrowwidth\":1},\"autotypenumbers\":\"strict\",\"coloraxis\":{\"colorbar\":{\"outlinewidth\":0,\"ticks\":\"\"}},\"colorscale\":{\"diverging\":[[0,\"#8e0152\"],[0.1,\"#c51b7d\"],[0.2,\"#de77ae\"],[0.3,\"#f1b6da\"],[0.4,\"#fde0ef\"],[0.5,\"#f7f7f7\"],[0.6,\"#e6f5d0\"],[0.7,\"#b8e186\"],[0.8,\"#7fbc41\"],[0.9,\"#4d9221\"],[1,\"#276419\"]],\"sequential\":[[0.0,\"#0d0887\"],[0.1111111111111111,\"#46039f\"],[0.2222222222222222,\"#7201a8\"],[0.3333333333333333,\"#9c179e\"],[0.4444444444444444,\"#bd3786\"],[0.5555555555555556,\"#d8576b\"],[0.6666666666666666,\"#ed7953\"],[0.7777777777777778,\"#fb9f3a\"],[0.8888888888888888,\"#fdca26\"],[1.0,\"#f0f921\"]],\"sequentialminus\":[[0.0,\"#0d0887\"],[0.1111111111111111,\"#46039f\"],[0.2222222222222222,\"#7201a8\"],[0.3333333333333333,\"#9c179e\"],[0.4444444444444444,\"#bd3786\"],[0.5555555555555556,\"#d8576b\"],[0.6666666666666666,\"#ed7953\"],[0.7777777777777778,\"#fb9f3a\"],[0.8888888888888888,\"#fdca26\"],[1.0,\"#f0f921\"]]},\"colorway\":[\"#636efa\",\"#EF553B\",\"#00cc96\",\"#ab63fa\",\"#FFA15A\",\"#19d3f3\",\"#FF6692\",\"#B6E880\",\"#FF97FF\",\"#FECB52\"],\"font\":{\"color\":\"#2a3f5f\"},\"geo\":{\"bgcolor\":\"white\",\"lakecolor\":\"white\",\"landcolor\":\"#E5ECF6\",\"showlakes\":true,\"showland\":true,\"subunitcolor\":\"white\"},\"hoverlabel\":{\"align\":\"left\"},\"hovermode\":\"closest\",\"mapbox\":{\"style\":\"light\"},\"paper_bgcolor\":\"white\",\"plot_bgcolor\":\"#E5ECF6\",\"polar\":{\"angularaxis\":{\"gridcolor\":\"white\",\"linecolor\":\"white\",\"ticks\":\"\"},\"bgcolor\":\"#E5ECF6\",\"radialaxis\":{\"gridcolor\":\"white\",\"linecolor\":\"white\",\"ticks\":\"\"}},\"scene\":{\"xaxis\":{\"backgroundcolor\":\"#E5ECF6\",\"gridcolor\":\"white\",\"gridwidth\":2,\"linecolor\":\"white\",\"showbackground\":true,\"ticks\":\"\",\"zerolinecolor\":\"white\"},\"yaxis\":{\"backgroundcolor\":\"#E5ECF6\",\"gridcolor\":\"white\",\"gridwidth\":2,\"linecolor\":\"white\",\"showbackground\":true,\"ticks\":\"\",\"zerolinecolor\":\"white\"},\"zaxis\":{\"backgroundcolor\":\"#E5ECF6\",\"gridcolor\":\"white\",\"gridwidth\":2,\"linecolor\":\"white\",\"showbackground\":true,\"ticks\":\"\",\"zerolinecolor\":\"white\"}},\"shapedefaults\":{\"line\":{\"color\":\"#2a3f5f\"}},\"ternary\":{\"aaxis\":{\"gridcolor\":\"white\",\"linecolor\":\"white\",\"ticks\":\"\"},\"baxis\":{\"gridcolor\":\"white\",\"linecolor\":\"white\",\"ticks\":\"\"},\"bgcolor\":\"#E5ECF6\",\"caxis\":{\"gridcolor\":\"white\",\"linecolor\":\"white\",\"ticks\":\"\"}},\"title\":{\"x\":0.05},\"xaxis\":{\"automargin\":true,\"gridcolor\":\"white\",\"linecolor\":\"white\",\"ticks\":\"\",\"title\":{\"standoff\":15},\"zerolinecolor\":\"white\",\"zerolinewidth\":2},\"yaxis\":{\"automargin\":true,\"gridcolor\":\"white\",\"linecolor\":\"white\",\"ticks\":\"\",\"title\":{\"standoff\":15},\"zerolinecolor\":\"white\",\"zerolinewidth\":2}}},\"xaxis\":{\"anchor\":\"y\",\"domain\":[0.0,1.0],\"title\":{\"text\":\"False Positive Rate\"},\"constrain\":\"domain\"},\"yaxis\":{\"anchor\":\"x\",\"domain\":[0.0,1.0],\"title\":{\"text\":\"True Positive Rate\"},\"scaleanchor\":\"x\",\"scaleratio\":1},\"legend\":{\"tracegroupgap\":0},\"title\":{\"text\":\"ROC Curve for KNN (best AUC) classifier\"},\"height\":500,\"width\":700,\"shapes\":[{\"line\":{\"dash\":\"dash\"},\"type\":\"line\",\"x0\":0,\"x1\":1,\"y0\":0,\"y1\":1}]},                        {\"responsive\": true}                    ).then(function(){\n",
       "                            \n",
       "var gd = document.getElementById('a5d45856-75f4-4f70-99a5-4d43d851cbfb');\n",
       "var x = new MutationObserver(function (mutations, observer) {{\n",
       "        var display = window.getComputedStyle(gd).display;\n",
       "        if (!display || display === 'none') {{\n",
       "            console.log([gd, 'removed!']);\n",
       "            Plotly.purge(gd);\n",
       "            observer.disconnect();\n",
       "        }}\n",
       "}});\n",
       "\n",
       "// Listen for the removal of the full notebook cells\n",
       "var notebookContainer = gd.closest('#notebook-container');\n",
       "if (notebookContainer) {{\n",
       "    x.observe(notebookContainer, {childList: true});\n",
       "}}\n",
       "\n",
       "// Listen for the clearing of the current output cell\n",
       "var outputEl = gd.closest('.output');\n",
       "if (outputEl) {{\n",
       "    x.observe(outputEl, {childList: true});\n",
       "}}\n",
       "\n",
       "                        })                };                });            </script>        </div>"
      ]
     },
     "metadata": {},
     "output_type": "display_data"
    }
   ],
   "source": [
    "fig = px.area(\n",
    "    x=knnfpr, y=knntpr,\n",
    "    title=f'ROC Curve for KNN (best AUC) classifier',\n",
    "    labels=dict(x='False Positive Rate', y='True Positive Rate'),\n",
    "    width=700, height=500\n",
    ")\n",
    "fig.add_shape(\n",
    "    type='line', line=dict(dash='dash'),\n",
    "    x0=0, x1=1, y0=0, y1=1\n",
    ")\n",
    "\n",
    "fig.update_yaxes(scaleanchor=\"x\", scaleratio=1)\n",
    "fig.update_xaxes(constrain='domain')\n",
    "fig.show()"
   ]
  },
  {
   "cell_type": "code",
   "execution_count": 116,
   "metadata": {},
   "outputs": [
    {
     "name": "stdout",
     "output_type": "stream",
     "text": [
      "Threshold value is: 0.10819165378670788\n"
     ]
    }
   ],
   "source": [
    "#Let's say we can only cover 50% of the population. Given the imbalanced nature of classes we'll ned to\n",
    "#adjust the threshold\n",
    "\n",
    "optimal_idx = np.argmax(knntpr - knnfpr)\n",
    "optimal_threshold = knnthresholds[optimal_idx]\n",
    "print(\"Threshold value is:\", optimal_threshold)"
   ]
  },
  {
   "cell_type": "code",
   "execution_count": 117,
   "metadata": {},
   "outputs": [],
   "source": [
    "# new predictions w/ adjusted threshold\n",
    "knn_y_test_adj = np.where(knn_grid.best_estimator_.predict_proba(X_t_test)[:,1]>knnthresholds[optimal_idx],\\\n",
    "                          1,0)"
   ]
  },
  {
   "cell_type": "code",
   "execution_count": 118,
   "metadata": {},
   "outputs": [
    {
     "data": {
      "image/png": "[encoded data removed]",
      "text/plain": [
       "<Figure size 432x288 with 2 Axes>"
      ]
     },
     "metadata": {
      "needs_background": "light"
     },
     "output_type": "display_data"
    }
   ],
   "source": [
    "# Using the adjusted threshold, we get the following confusion matrix\n",
    "cm = confusion_matrix(y_test, knn_y_test_adj)\n",
    "disp = ConfusionMatrixDisplay(confusion_matrix=cm)\n",
    "disp.plot()\n",
    "plt.show()"
   ]
  },
  {
   "cell_type": "code",
   "execution_count": null,
   "metadata": {},
   "outputs": [],
   "source": [
    "# Derived model allows us to capture two-thirds of likely campaign acceptors while\n",
    "# targeting just half the population"
   ]
  }
 ],
 "metadata": {
  "kernelspec": {
   "display_name": "Python 3 (ipykernel)",
   "language": "python",
   "name": "python3"
  },
  "language_info": {
   "codemirror_mode": {
    "name": "ipython",
    "version": 3
   },
   "file_extension": ".py",
   "mimetype": "text/x-python",
   "name": "python",
   "nbconvert_exporter": "python",
   "pygments_lexer": "ipython3",
   "version": "3.9.12"
  },
  "widgets": {
   "application/vnd.jupyter.widget-state+json": {
    "state": {},
    "version_major": 2,
    "version_minor": 0
   }
  }
 },
 "nbformat": 4,
 "nbformat_minor": 4
}
